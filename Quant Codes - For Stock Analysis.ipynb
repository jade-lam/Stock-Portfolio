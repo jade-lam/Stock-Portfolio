{
  "nbformat": 4,
  "nbformat_minor": 0,
  "metadata": {
    "colab": {
      "name": "Quant Codes - For Stock Analysis.ipynb",
      "provenance": [],
      "authorship_tag": "ABX9TyNyiQWN5nV/vXBlxhWs+uSQ"
    },
    "kernelspec": {
      "name": "python3",
      "display_name": "Python 3"
    },
    "language_info": {
      "name": "python"
    }
  },
  "cells": [
    {
      "cell_type": "code",
      "execution_count": null,
      "metadata": {
        "id": "ZJtApajGT1wA"
      },
      "outputs": [],
      "source": [
        "#!pip install yfinance"
      ]
    },
    {
      "cell_type": "code",
      "source": [
        "import pandas as pd\n",
        "import numpy as np\n",
        "import matplotlib.pyplot as plt\n",
        "import seaborn as sns\n",
        "import yfinance as yf\n",
        "\n",
        "%matplotlib inline\n",
        "plt.style.use('seaborn-darkgrid')"
      ],
      "metadata": {
        "id": "-2ZC03qeUQ5E"
      },
      "execution_count": 26,
      "outputs": []
    },
    {
      "cell_type": "markdown",
      "source": [
        "**1) Extracting S&P 500 Stock List** <br>\n",
        "Source from wikipedia"
      ],
      "metadata": {
        "id": "pap15Sl5UYkx"
      }
    },
    {
      "cell_type": "code",
      "source": [
        "#source from wiki\n",
        "url = 'https://en.wikipedia.org/wiki/List_of_S%26P_500_companies'\n",
        "\n",
        "SP500_full = pd.read_html(url)[0]"
      ],
      "metadata": {
        "id": "Gydv9ltXUXoY"
      },
      "execution_count": 7,
      "outputs": []
    },
    {
      "cell_type": "code",
      "source": [
        "SP500_full.head()"
      ],
      "metadata": {
        "colab": {
          "base_uri": "https://localhost:8080/",
          "height": 206
        },
        "id": "RM8K6yLWUrfi",
        "outputId": "ca2a9660-75e1-44df-cea6-d85b9b17664a"
      },
      "execution_count": 8,
      "outputs": [
        {
          "output_type": "execute_result",
          "data": {
            "text/html": [
              "\n",
              "  <div id=\"df-91df2e72-857b-4098-97fc-2bd1a8a616e5\">\n",
              "    <div class=\"colab-df-container\">\n",
              "      <div>\n",
              "<style scoped>\n",
              "    .dataframe tbody tr th:only-of-type {\n",
              "        vertical-align: middle;\n",
              "    }\n",
              "\n",
              "    .dataframe tbody tr th {\n",
              "        vertical-align: top;\n",
              "    }\n",
              "\n",
              "    .dataframe thead th {\n",
              "        text-align: right;\n",
              "    }\n",
              "</style>\n",
              "<table border=\"1\" class=\"dataframe\">\n",
              "  <thead>\n",
              "    <tr style=\"text-align: right;\">\n",
              "      <th></th>\n",
              "      <th>Symbol</th>\n",
              "      <th>Security</th>\n",
              "      <th>SEC filings</th>\n",
              "      <th>GICS Sector</th>\n",
              "      <th>GICS Sub-Industry</th>\n",
              "      <th>Headquarters Location</th>\n",
              "      <th>Date first added</th>\n",
              "      <th>CIK</th>\n",
              "      <th>Founded</th>\n",
              "    </tr>\n",
              "  </thead>\n",
              "  <tbody>\n",
              "    <tr>\n",
              "      <th>0</th>\n",
              "      <td>MMM</td>\n",
              "      <td>3M</td>\n",
              "      <td>reports</td>\n",
              "      <td>Industrials</td>\n",
              "      <td>Industrial Conglomerates</td>\n",
              "      <td>Saint Paul, Minnesota</td>\n",
              "      <td>1976-08-09</td>\n",
              "      <td>66740</td>\n",
              "      <td>1902</td>\n",
              "    </tr>\n",
              "    <tr>\n",
              "      <th>1</th>\n",
              "      <td>AOS</td>\n",
              "      <td>A. O. Smith</td>\n",
              "      <td>reports</td>\n",
              "      <td>Industrials</td>\n",
              "      <td>Building Products</td>\n",
              "      <td>Milwaukee, Wisconsin</td>\n",
              "      <td>2017-07-26</td>\n",
              "      <td>91142</td>\n",
              "      <td>1916</td>\n",
              "    </tr>\n",
              "    <tr>\n",
              "      <th>2</th>\n",
              "      <td>ABT</td>\n",
              "      <td>Abbott</td>\n",
              "      <td>reports</td>\n",
              "      <td>Health Care</td>\n",
              "      <td>Health Care Equipment</td>\n",
              "      <td>North Chicago, Illinois</td>\n",
              "      <td>1964-03-31</td>\n",
              "      <td>1800</td>\n",
              "      <td>1888</td>\n",
              "    </tr>\n",
              "    <tr>\n",
              "      <th>3</th>\n",
              "      <td>ABBV</td>\n",
              "      <td>AbbVie</td>\n",
              "      <td>reports</td>\n",
              "      <td>Health Care</td>\n",
              "      <td>Pharmaceuticals</td>\n",
              "      <td>North Chicago, Illinois</td>\n",
              "      <td>2012-12-31</td>\n",
              "      <td>1551152</td>\n",
              "      <td>2013 (1888)</td>\n",
              "    </tr>\n",
              "    <tr>\n",
              "      <th>4</th>\n",
              "      <td>ABMD</td>\n",
              "      <td>Abiomed</td>\n",
              "      <td>reports</td>\n",
              "      <td>Health Care</td>\n",
              "      <td>Health Care Equipment</td>\n",
              "      <td>Danvers, Massachusetts</td>\n",
              "      <td>2018-05-31</td>\n",
              "      <td>815094</td>\n",
              "      <td>1981</td>\n",
              "    </tr>\n",
              "  </tbody>\n",
              "</table>\n",
              "</div>\n",
              "      <button class=\"colab-df-convert\" onclick=\"convertToInteractive('df-91df2e72-857b-4098-97fc-2bd1a8a616e5')\"\n",
              "              title=\"Convert this dataframe to an interactive table.\"\n",
              "              style=\"display:none;\">\n",
              "        \n",
              "  <svg xmlns=\"http://www.w3.org/2000/svg\" height=\"24px\"viewBox=\"0 0 24 24\"\n",
              "       width=\"24px\">\n",
              "    <path d=\"M0 0h24v24H0V0z\" fill=\"none\"/>\n",
              "    <path d=\"M18.56 5.44l.94 2.06.94-2.06 2.06-.94-2.06-.94-.94-2.06-.94 2.06-2.06.94zm-11 1L8.5 8.5l.94-2.06 2.06-.94-2.06-.94L8.5 2.5l-.94 2.06-2.06.94zm10 10l.94 2.06.94-2.06 2.06-.94-2.06-.94-.94-2.06-.94 2.06-2.06.94z\"/><path d=\"M17.41 7.96l-1.37-1.37c-.4-.4-.92-.59-1.43-.59-.52 0-1.04.2-1.43.59L10.3 9.45l-7.72 7.72c-.78.78-.78 2.05 0 2.83L4 21.41c.39.39.9.59 1.41.59.51 0 1.02-.2 1.41-.59l7.78-7.78 2.81-2.81c.8-.78.8-2.07 0-2.86zM5.41 20L4 18.59l7.72-7.72 1.47 1.35L5.41 20z\"/>\n",
              "  </svg>\n",
              "      </button>\n",
              "      \n",
              "  <style>\n",
              "    .colab-df-container {\n",
              "      display:flex;\n",
              "      flex-wrap:wrap;\n",
              "      gap: 12px;\n",
              "    }\n",
              "\n",
              "    .colab-df-convert {\n",
              "      background-color: #E8F0FE;\n",
              "      border: none;\n",
              "      border-radius: 50%;\n",
              "      cursor: pointer;\n",
              "      display: none;\n",
              "      fill: #1967D2;\n",
              "      height: 32px;\n",
              "      padding: 0 0 0 0;\n",
              "      width: 32px;\n",
              "    }\n",
              "\n",
              "    .colab-df-convert:hover {\n",
              "      background-color: #E2EBFA;\n",
              "      box-shadow: 0px 1px 2px rgba(60, 64, 67, 0.3), 0px 1px 3px 1px rgba(60, 64, 67, 0.15);\n",
              "      fill: #174EA6;\n",
              "    }\n",
              "\n",
              "    [theme=dark] .colab-df-convert {\n",
              "      background-color: #3B4455;\n",
              "      fill: #D2E3FC;\n",
              "    }\n",
              "\n",
              "    [theme=dark] .colab-df-convert:hover {\n",
              "      background-color: #434B5C;\n",
              "      box-shadow: 0px 1px 3px 1px rgba(0, 0, 0, 0.15);\n",
              "      filter: drop-shadow(0px 1px 2px rgba(0, 0, 0, 0.3));\n",
              "      fill: #FFFFFF;\n",
              "    }\n",
              "  </style>\n",
              "\n",
              "      <script>\n",
              "        const buttonEl =\n",
              "          document.querySelector('#df-91df2e72-857b-4098-97fc-2bd1a8a616e5 button.colab-df-convert');\n",
              "        buttonEl.style.display =\n",
              "          google.colab.kernel.accessAllowed ? 'block' : 'none';\n",
              "\n",
              "        async function convertToInteractive(key) {\n",
              "          const element = document.querySelector('#df-91df2e72-857b-4098-97fc-2bd1a8a616e5');\n",
              "          const dataTable =\n",
              "            await google.colab.kernel.invokeFunction('convertToInteractive',\n",
              "                                                     [key], {});\n",
              "          if (!dataTable) return;\n",
              "\n",
              "          const docLinkHtml = 'Like what you see? Visit the ' +\n",
              "            '<a target=\"_blank\" href=https://colab.research.google.com/notebooks/data_table.ipynb>data table notebook</a>'\n",
              "            + ' to learn more about interactive tables.';\n",
              "          element.innerHTML = '';\n",
              "          dataTable['output_type'] = 'display_data';\n",
              "          await google.colab.output.renderOutput(dataTable, element);\n",
              "          const docLink = document.createElement('div');\n",
              "          docLink.innerHTML = docLinkHtml;\n",
              "          element.appendChild(docLink);\n",
              "        }\n",
              "      </script>\n",
              "    </div>\n",
              "  </div>\n",
              "  "
            ],
            "text/plain": [
              "  Symbol     Security SEC filings  ... Date first added      CIK      Founded\n",
              "0    MMM           3M     reports  ...       1976-08-09    66740         1902\n",
              "1    AOS  A. O. Smith     reports  ...       2017-07-26    91142         1916\n",
              "2    ABT       Abbott     reports  ...       1964-03-31     1800         1888\n",
              "3   ABBV       AbbVie     reports  ...       2012-12-31  1551152  2013 (1888)\n",
              "4   ABMD      Abiomed     reports  ...       2018-05-31   815094         1981\n",
              "\n",
              "[5 rows x 9 columns]"
            ]
          },
          "metadata": {},
          "execution_count": 8
        }
      ]
    },
    {
      "cell_type": "code",
      "source": [
        "#Extracting only the ticker list\n",
        "SP500_ticker = SP500_full['Symbol'].tolist()"
      ],
      "metadata": {
        "id": "Y6bff9WqUxgg"
      },
      "execution_count": 11,
      "outputs": []
    },
    {
      "cell_type": "code",
      "source": [
        "#parsing tickers to list, remove special characters\n",
        "SP500_ticker = [ticker.replace(\".\",\"-\") for ticker in SP500_ticker]"
      ],
      "metadata": {
        "id": "0iCidYtaVQjP"
      },
      "execution_count": 12,
      "outputs": []
    },
    {
      "cell_type": "markdown",
      "source": [
        "**2) Retrieving Historic Data** <br>"
      ],
      "metadata": {
        "id": "hZ-MUwKKVgqX"
      }
    },
    {
      "cell_type": "code",
      "source": [
        "tickers = ['UL', 'PG', 'CL', 'KMB']"
      ],
      "metadata": {
        "id": "4vCAULclV8X5"
      },
      "execution_count": 20,
      "outputs": []
    },
    {
      "cell_type": "code",
      "source": [
        "price_data = yf.download(tickers, start=\"2022-01-02\")['Adj Close']"
      ],
      "metadata": {
        "colab": {
          "base_uri": "https://localhost:8080/"
        },
        "id": "WVZwEa8XVb3m",
        "outputId": "6f799f9c-10c6-4f0b-8c12-9638c02be4ae"
      },
      "execution_count": 21,
      "outputs": [
        {
          "output_type": "stream",
          "name": "stdout",
          "text": [
            "[*********************100%***********************]  4 of 4 completed\n"
          ]
        }
      ]
    },
    {
      "cell_type": "code",
      "source": [
        "price_data.head()"
      ],
      "metadata": {
        "colab": {
          "base_uri": "https://localhost:8080/",
          "height": 237
        },
        "id": "m0VzLMmoWQJK",
        "outputId": "1a49ecae-3db4-4a8e-8442-8e969c8f2dee"
      },
      "execution_count": 22,
      "outputs": [
        {
          "output_type": "execute_result",
          "data": {
            "text/html": [
              "\n",
              "  <div id=\"df-f4530feb-3860-4cb7-89ee-68a0a6c2d4c3\">\n",
              "    <div class=\"colab-df-container\">\n",
              "      <div>\n",
              "<style scoped>\n",
              "    .dataframe tbody tr th:only-of-type {\n",
              "        vertical-align: middle;\n",
              "    }\n",
              "\n",
              "    .dataframe tbody tr th {\n",
              "        vertical-align: top;\n",
              "    }\n",
              "\n",
              "    .dataframe thead th {\n",
              "        text-align: right;\n",
              "    }\n",
              "</style>\n",
              "<table border=\"1\" class=\"dataframe\">\n",
              "  <thead>\n",
              "    <tr style=\"text-align: right;\">\n",
              "      <th></th>\n",
              "      <th>CL</th>\n",
              "      <th>KMB</th>\n",
              "      <th>PG</th>\n",
              "      <th>UL</th>\n",
              "    </tr>\n",
              "    <tr>\n",
              "      <th>Date</th>\n",
              "      <th></th>\n",
              "      <th></th>\n",
              "      <th></th>\n",
              "      <th></th>\n",
              "    </tr>\n",
              "  </thead>\n",
              "  <tbody>\n",
              "    <tr>\n",
              "      <th>2022-01-03</th>\n",
              "      <td>84.132973</td>\n",
              "      <td>142.429993</td>\n",
              "      <td>162.025360</td>\n",
              "      <td>53.549469</td>\n",
              "    </tr>\n",
              "    <tr>\n",
              "      <th>2022-01-04</th>\n",
              "      <td>84.411469</td>\n",
              "      <td>143.199997</td>\n",
              "      <td>162.592316</td>\n",
              "      <td>53.291924</td>\n",
              "    </tr>\n",
              "    <tr>\n",
              "      <th>2022-01-05</th>\n",
              "      <td>84.759575</td>\n",
              "      <td>144.059998</td>\n",
              "      <td>163.328339</td>\n",
              "      <td>53.192867</td>\n",
              "    </tr>\n",
              "    <tr>\n",
              "      <th>2022-01-06</th>\n",
              "      <td>84.202599</td>\n",
              "      <td>143.119995</td>\n",
              "      <td>161.955750</td>\n",
              "      <td>52.667870</td>\n",
              "    </tr>\n",
              "    <tr>\n",
              "      <th>2022-01-07</th>\n",
              "      <td>83.983788</td>\n",
              "      <td>143.740005</td>\n",
              "      <td>161.866226</td>\n",
              "      <td>53.291924</td>\n",
              "    </tr>\n",
              "  </tbody>\n",
              "</table>\n",
              "</div>\n",
              "      <button class=\"colab-df-convert\" onclick=\"convertToInteractive('df-f4530feb-3860-4cb7-89ee-68a0a6c2d4c3')\"\n",
              "              title=\"Convert this dataframe to an interactive table.\"\n",
              "              style=\"display:none;\">\n",
              "        \n",
              "  <svg xmlns=\"http://www.w3.org/2000/svg\" height=\"24px\"viewBox=\"0 0 24 24\"\n",
              "       width=\"24px\">\n",
              "    <path d=\"M0 0h24v24H0V0z\" fill=\"none\"/>\n",
              "    <path d=\"M18.56 5.44l.94 2.06.94-2.06 2.06-.94-2.06-.94-.94-2.06-.94 2.06-2.06.94zm-11 1L8.5 8.5l.94-2.06 2.06-.94-2.06-.94L8.5 2.5l-.94 2.06-2.06.94zm10 10l.94 2.06.94-2.06 2.06-.94-2.06-.94-.94-2.06-.94 2.06-2.06.94z\"/><path d=\"M17.41 7.96l-1.37-1.37c-.4-.4-.92-.59-1.43-.59-.52 0-1.04.2-1.43.59L10.3 9.45l-7.72 7.72c-.78.78-.78 2.05 0 2.83L4 21.41c.39.39.9.59 1.41.59.51 0 1.02-.2 1.41-.59l7.78-7.78 2.81-2.81c.8-.78.8-2.07 0-2.86zM5.41 20L4 18.59l7.72-7.72 1.47 1.35L5.41 20z\"/>\n",
              "  </svg>\n",
              "      </button>\n",
              "      \n",
              "  <style>\n",
              "    .colab-df-container {\n",
              "      display:flex;\n",
              "      flex-wrap:wrap;\n",
              "      gap: 12px;\n",
              "    }\n",
              "\n",
              "    .colab-df-convert {\n",
              "      background-color: #E8F0FE;\n",
              "      border: none;\n",
              "      border-radius: 50%;\n",
              "      cursor: pointer;\n",
              "      display: none;\n",
              "      fill: #1967D2;\n",
              "      height: 32px;\n",
              "      padding: 0 0 0 0;\n",
              "      width: 32px;\n",
              "    }\n",
              "\n",
              "    .colab-df-convert:hover {\n",
              "      background-color: #E2EBFA;\n",
              "      box-shadow: 0px 1px 2px rgba(60, 64, 67, 0.3), 0px 1px 3px 1px rgba(60, 64, 67, 0.15);\n",
              "      fill: #174EA6;\n",
              "    }\n",
              "\n",
              "    [theme=dark] .colab-df-convert {\n",
              "      background-color: #3B4455;\n",
              "      fill: #D2E3FC;\n",
              "    }\n",
              "\n",
              "    [theme=dark] .colab-df-convert:hover {\n",
              "      background-color: #434B5C;\n",
              "      box-shadow: 0px 1px 3px 1px rgba(0, 0, 0, 0.15);\n",
              "      filter: drop-shadow(0px 1px 2px rgba(0, 0, 0, 0.3));\n",
              "      fill: #FFFFFF;\n",
              "    }\n",
              "  </style>\n",
              "\n",
              "      <script>\n",
              "        const buttonEl =\n",
              "          document.querySelector('#df-f4530feb-3860-4cb7-89ee-68a0a6c2d4c3 button.colab-df-convert');\n",
              "        buttonEl.style.display =\n",
              "          google.colab.kernel.accessAllowed ? 'block' : 'none';\n",
              "\n",
              "        async function convertToInteractive(key) {\n",
              "          const element = document.querySelector('#df-f4530feb-3860-4cb7-89ee-68a0a6c2d4c3');\n",
              "          const dataTable =\n",
              "            await google.colab.kernel.invokeFunction('convertToInteractive',\n",
              "                                                     [key], {});\n",
              "          if (!dataTable) return;\n",
              "\n",
              "          const docLinkHtml = 'Like what you see? Visit the ' +\n",
              "            '<a target=\"_blank\" href=https://colab.research.google.com/notebooks/data_table.ipynb>data table notebook</a>'\n",
              "            + ' to learn more about interactive tables.';\n",
              "          element.innerHTML = '';\n",
              "          dataTable['output_type'] = 'display_data';\n",
              "          await google.colab.output.renderOutput(dataTable, element);\n",
              "          const docLink = document.createElement('div');\n",
              "          docLink.innerHTML = docLinkHtml;\n",
              "          element.appendChild(docLink);\n",
              "        }\n",
              "      </script>\n",
              "    </div>\n",
              "  </div>\n",
              "  "
            ],
            "text/plain": [
              "                   CL         KMB          PG         UL\n",
              "Date                                                    \n",
              "2022-01-03  84.132973  142.429993  162.025360  53.549469\n",
              "2022-01-04  84.411469  143.199997  162.592316  53.291924\n",
              "2022-01-05  84.759575  144.059998  163.328339  53.192867\n",
              "2022-01-06  84.202599  143.119995  161.955750  52.667870\n",
              "2022-01-07  83.983788  143.740005  161.866226  53.291924"
            ]
          },
          "metadata": {},
          "execution_count": 22
        }
      ]
    },
    {
      "cell_type": "markdown",
      "source": [
        "**3) Plotting - Same Size Comparison** <br>\n",
        "For visualising the price of different assets, to make them comparable,  divide the entire price series by its respective first price value. This will make the changes comparable. \n",
        "\n",
        "Hence, one way is to divide it by the first price so that we can compare them on the same scale. This helps us to compare stocks with different price basis."
      ],
      "metadata": {
        "id": "OrSph5T-WiMO"
      }
    },
    {
      "cell_type": "code",
      "source": [
        "# Plot the absolute price series\n",
        "plt.figure(figsize=(15,4))\n",
        "(price_data['UL']/price_data['UL'].iloc[0]).plot()\n",
        "(price_data['PG']/price_data['PG'].iloc[0]).plot()\n",
        "(price_data['CL']/price_data['CL'].iloc[0]).plot()\n",
        "(price_data['KMB']/price_data['KMB'].iloc[0]).plot()\n",
        "\n",
        "# Set the title and axes label\n",
        "plt.title('Price Comparison', fontsize=12)\n",
        "plt.xlabel('Year-Month', fontsize=10)\n",
        "plt.ylabel('Price Chnage', fontsize=10)\n",
        "plt.legend()\n",
        "plt.show()"
      ],
      "metadata": {
        "colab": {
          "base_uri": "https://localhost:8080/",
          "height": 294
        },
        "id": "4GlNotGYW6lb",
        "outputId": "f3cd9bc2-555c-407f-b54f-c35fe4acff38"
      },
      "execution_count": 28,
      "outputs": [
        {
          "output_type": "display_data",
          "data": {
            "image/png": "[encoded data removed]",
            "text/plain": [
              "<Figure size 1080x288 with 1 Axes>"
            ]
          },
          "metadata": {}
        }
      ]
    }
  ]
}