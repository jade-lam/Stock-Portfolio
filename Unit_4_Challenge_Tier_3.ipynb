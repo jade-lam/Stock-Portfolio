{
  "nbformat": 4,
  "nbformat_minor": 0,
  "metadata": {
    "kernelspec": {
      "display_name": "Python 3",
      "language": "python",
      "name": "python3"
    },
    "language_info": {
      "codemirror_mode": {
        "name": "ipython",
        "version": 3
      },
      "file_extension": ".py",
      "mimetype": "text/x-python",
      "name": "python",
      "nbconvert_exporter": "python",
      "pygments_lexer": "ipython3",
      "version": "3.7.3"
    },
    "colab": {
      "name": "Unit 4 Challenge - Tier 3.ipynb",
      "provenance": [],
      "collapsed_sections": [],
      "include_colab_link": true
    }
  },
  "cells": [
    {
      "cell_type": "markdown",
      "metadata": {
        "id": "view-in-github",
        "colab_type": "text"
      },
      "source": [
        "<a href=\"https://colab.research.google.com/github/jade-lam/Stock-Portfolio/blob/master/Unit_4_Challenge_Tier_3.ipynb\" target=\"_parent\"><img src=\"https://colab.research.google.com/assets/colab-badge.svg\" alt=\"Open In Colab\"/></a>"
      ]
    },
    {
      "cell_type": "markdown",
      "metadata": {
        "id": "Tia3MP1SJpgj"
      },
      "source": [
        "# Springboard Data Science Career Track Unit 4 Challenge - Tier 3 Complete\n",
        "\n",
        "## Objectives\n",
        "Hey! Great job getting through those challenging DataCamp courses. You're learning a lot in a short span of time. \n",
        "\n",
        "In this notebook, you're going to apply the skills you've been learning, bridging the gap between the controlled environment of DataCamp and the *slightly* messier work that data scientists do with actual datasets!\n",
        "\n",
        "Here’s the mystery we’re going to solve: ***which boroughs of London have seen the greatest increase in housing prices, on average, over the last two decades?***\n",
        "\n",
        "\n",
        "A borough is just a fancy word for district. You may be familiar with the five boroughs of New York… well, there are 32 boroughs within Greater London [(here's some info for the curious)](https://en.wikipedia.org/wiki/London_boroughs). Some of them are more desirable areas to live in, and the data will reflect that with a greater rise in housing prices.\n",
        "\n",
        "***This is the Tier 3 notebook, which means it's not filled in at all: we'll just give you the skeleton of a project, the brief and the data. It's up to you to play around with it and see what you can find out! Good luck! If you struggle, feel free to look at easier tiers for help; but try to dip in and out of them, as the more independent work you do, the better it is for your learning!***\n",
        "\n",
        "This challenge will make use of only what you learned in the following DataCamp courses: \n",
        "- Prework courses (Introduction to Python for Data Science, Intermediate Python for Data Science)\n",
        "- Data Types for Data Science\n",
        "- Python Data Science Toolbox (Part One) \n",
        "- pandas Foundations\n",
        "- Manipulating DataFrames with pandas\n",
        "- Merging DataFrames with pandas\n",
        "\n",
        "Of the tools, techniques and concepts in the above DataCamp courses, this challenge should require the application of the following: \n",
        "- **pandas**\n",
        "    - **data ingestion and inspection** (pandas Foundations, Module One) \n",
        "    - **exploratory data analysis** (pandas Foundations, Module Two)\n",
        "    - **tidying and cleaning** (Manipulating DataFrames with pandas, Module Three) \n",
        "    - **transforming DataFrames** (Manipulating DataFrames with pandas, Module One)\n",
        "    - **subsetting DataFrames with lists** (Manipulating DataFrames with pandas, Module One) \n",
        "    - **filtering DataFrames** (Manipulating DataFrames with pandas, Module One) \n",
        "    - **grouping data** (Manipulating DataFrames with pandas, Module Four) \n",
        "    - **melting data** (Manipulating DataFrames with pandas, Module Three) \n",
        "    - **advanced indexing** (Manipulating DataFrames with pandas, Module Four) \n",
        "- **matplotlib** (Intermediate Python for Data Science, Module One)\n",
        "- **fundamental data types** (Data Types for Data Science, Module One) \n",
        "- **dictionaries** (Intermediate Python for Data Science, Module Two)\n",
        "- **handling dates and times** (Data Types for Data Science, Module Four)\n",
        "- **function definition** (Python Data Science Toolbox - Part One, Module One)\n",
        "- **default arguments, variable length, and scope** (Python Data Science Toolbox - Part One, Module Two) \n",
        "- **lambda functions and error handling** (Python Data Science Toolbox - Part One, Module Four) "
      ]
    },
    {
      "cell_type": "markdown",
      "metadata": {
        "id": "Ipgd2nV8Jpgl"
      },
      "source": [
        "## The Data Science Pipeline\n",
        "\n",
        "This is Tier Three, so we'll get you started. But after that, it's all in your hands! When you feel done with your investigations, look back over what you've accomplished, and prepare a quick presentation of your findings for the next mentor meeting. \n",
        "\n",
        "Data Science is magical. In this case study, you'll get to apply some complex machine learning algorithms. But as  [David Spiegelhalter](https://www.youtube.com/watch?v=oUs1uvsz0Ok) reminds us, there is no substitute for simply **taking a really, really good look at the data.** Sometimes, this is all we need to answer our question.\n",
        "\n",
        "Data Science projects generally adhere to the four stages of Data Science Pipeline:\n",
        "1. Sourcing and loading \n",
        "2. Cleaning, transforming, and visualizing \n",
        "3. Modeling \n",
        "4. Evaluating and concluding \n"
      ]
    },
    {
      "cell_type": "markdown",
      "metadata": {
        "id": "zswDqbefJpgm"
      },
      "source": [
        "### 1. Sourcing and Loading \n",
        "\n",
        "Any Data Science project kicks off by importing  ***pandas***. The documentation of this wonderful library can be found [here](https://pandas.pydata.org/). As you've seen, pandas is conveniently connected to the [Numpy](http://www.numpy.org/) and [Matplotlib](https://matplotlib.org/) libraries. \n",
        "\n",
        "***Hint:*** This part of the data science pipeline will test those skills you acquired in the pandas Foundations course, Module One. "
      ]
    },
    {
      "cell_type": "markdown",
      "metadata": {
        "id": "aEau5nEvJpgm"
      },
      "source": [
        "#### 1.1. Importing Libraries"
      ]
    },
    {
      "cell_type": "code",
      "metadata": {
        "id": "7Bt_Q_oPJpgn"
      },
      "source": [
        "# Let's import the pandas, numpy libraries as pd, and np respectively. \n",
        "import pandas as pd\n",
        "import numpy as np\n",
        "\n",
        "# Load the pyplot collection of functions from matplotlib, as plt \n",
        "import matplotlib.pyplot as plt"
      ],
      "execution_count": 203,
      "outputs": []
    },
    {
      "cell_type": "markdown",
      "metadata": {
        "id": "koUrawxsJpgq"
      },
      "source": [
        "#### 1.2.  Loading the data\n",
        "Your data comes from the [London Datastore](https://data.london.gov.uk/): a free, open-source data-sharing portal for London-oriented datasets. "
      ]
    },
    {
      "cell_type": "code",
      "metadata": {
        "id": "AiLiD4v3Jpgr"
      },
      "source": [
        "# First, make a variable called url_LondonHousePrices, and assign it the following link, enclosed in quotation-marks as a string:\n",
        "# https://data.london.gov.uk/download/uk-house-price-index/70ac0766-8902-4eb5-aab5-01951aaed773/UK%20House%20price%20index.xls\n",
        "\n",
        "url_LondonHousePrices = \"https://data.london.gov.uk/download/uk-house-price-index/70ac0766-8902-4eb5-aab5-01951aaed773/UK%20House%20price%20index.xls\"\n",
        "\n",
        "# The dataset we're interested in contains the Average prices of the houses, and is actually on a particular sheet of the Excel file. \n",
        "# As a result, we need to specify the sheet name in the read_excel() method.\n",
        "# Put this data into a variable called properties.  \n",
        "\n",
        "#changed index_col to 0 so first row becomes header row\n",
        "properties = pd.read_excel(url_LondonHousePrices, sheet_name='Average price', index_col= 0) "
      ],
      "execution_count": 204,
      "outputs": []
    },
    {
      "cell_type": "markdown",
      "metadata": {
        "id": "POukEJXgJpgu"
      },
      "source": [
        "### 2. Cleaning, transforming, and visualizing\n",
        "This second stage is arguably the most important part of any Data Science project. The first thing to do is take a proper look at the data. Cleaning forms the majority of this stage, and can be done both before or after Transformation.\n",
        "\n",
        "The end goal of data cleaning is to have tidy data. When data is tidy: \n",
        "\n",
        "1. Each variable has a column.\n",
        "2. Each observation forms a row.\n",
        "\n",
        "Keep the end goal in mind as you move through this process, every step will take you closer. \n",
        "\n",
        "\n",
        "\n",
        "***Hint:*** This part of the data science pipeline should test those skills you acquired in: \n",
        "- Intermediate Python for data science, all modules.\n",
        "- pandas Foundations, all modules. \n",
        "- Manipulating DataFrames with pandas, all modules.\n",
        "- Data Types for Data Science, Module Four.\n",
        "- Python Data Science Toolbox - Part One, all modules"
      ]
    },
    {
      "cell_type": "markdown",
      "metadata": {
        "id": "Te0Q548tnzZa"
      },
      "source": [
        "**2.1. Exploring your data** \n",
        "\n",
        "Think about your pandas functions for checking out a dataframe. "
      ]
    },
    {
      "cell_type": "code",
      "metadata": {
        "id": "6_iyLGJP_HKn",
        "outputId": "f1e358f5-75f9-41b2-aadd-24abeedf9ea5",
        "colab": {
          "base_uri": "https://localhost:8080/",
          "height": 230
        }
      },
      "source": [
        "properties.head(3)"
      ],
      "execution_count": 205,
      "outputs": [
        {
          "output_type": "execute_result",
          "data": {
            "text/html": [
              "<div>\n",
              "<style scoped>\n",
              "    .dataframe tbody tr th:only-of-type {\n",
              "        vertical-align: middle;\n",
              "    }\n",
              "\n",
              "    .dataframe tbody tr th {\n",
              "        vertical-align: top;\n",
              "    }\n",
              "\n",
              "    .dataframe thead th {\n",
              "        text-align: right;\n",
              "    }\n",
              "</style>\n",
              "<table border=\"1\" class=\"dataframe\">\n",
              "  <thead>\n",
              "    <tr style=\"text-align: right;\">\n",
              "      <th></th>\n",
              "      <th>City of London</th>\n",
              "      <th>Barking &amp; Dagenham</th>\n",
              "      <th>Barnet</th>\n",
              "      <th>Bexley</th>\n",
              "      <th>Brent</th>\n",
              "      <th>Bromley</th>\n",
              "      <th>Camden</th>\n",
              "      <th>Croydon</th>\n",
              "      <th>Ealing</th>\n",
              "      <th>Enfield</th>\n",
              "      <th>Greenwich</th>\n",
              "      <th>Hackney</th>\n",
              "      <th>Hammersmith &amp; Fulham</th>\n",
              "      <th>Haringey</th>\n",
              "      <th>Harrow</th>\n",
              "      <th>Havering</th>\n",
              "      <th>Hillingdon</th>\n",
              "      <th>Hounslow</th>\n",
              "      <th>Islington</th>\n",
              "      <th>Kensington &amp; Chelsea</th>\n",
              "      <th>Kingston upon Thames</th>\n",
              "      <th>Lambeth</th>\n",
              "      <th>Lewisham</th>\n",
              "      <th>Merton</th>\n",
              "      <th>Newham</th>\n",
              "      <th>Redbridge</th>\n",
              "      <th>Richmond upon Thames</th>\n",
              "      <th>Southwark</th>\n",
              "      <th>Sutton</th>\n",
              "      <th>Tower Hamlets</th>\n",
              "      <th>Waltham Forest</th>\n",
              "      <th>Wandsworth</th>\n",
              "      <th>Westminster</th>\n",
              "      <th>Unnamed: 34</th>\n",
              "      <th>Inner London</th>\n",
              "      <th>Outer London</th>\n",
              "      <th>Unnamed: 37</th>\n",
              "      <th>NORTH EAST</th>\n",
              "      <th>NORTH WEST</th>\n",
              "      <th>YORKS &amp; THE HUMBER</th>\n",
              "      <th>EAST MIDLANDS</th>\n",
              "      <th>WEST MIDLANDS</th>\n",
              "      <th>EAST OF ENGLAND</th>\n",
              "      <th>LONDON</th>\n",
              "      <th>SOUTH EAST</th>\n",
              "      <th>SOUTH WEST</th>\n",
              "      <th>Unnamed: 47</th>\n",
              "      <th>England</th>\n",
              "    </tr>\n",
              "  </thead>\n",
              "  <tbody>\n",
              "    <tr>\n",
              "      <th>NaT</th>\n",
              "      <td>E09000001</td>\n",
              "      <td>E09000002</td>\n",
              "      <td>E09000003</td>\n",
              "      <td>E09000004</td>\n",
              "      <td>E09000005</td>\n",
              "      <td>E09000006</td>\n",
              "      <td>E09000007</td>\n",
              "      <td>E09000008</td>\n",
              "      <td>E09000009</td>\n",
              "      <td>E09000010</td>\n",
              "      <td>E09000011</td>\n",
              "      <td>E09000012</td>\n",
              "      <td>E09000013</td>\n",
              "      <td>E09000014</td>\n",
              "      <td>E09000015</td>\n",
              "      <td>E09000016</td>\n",
              "      <td>E09000017</td>\n",
              "      <td>E09000018</td>\n",
              "      <td>E09000019</td>\n",
              "      <td>E09000020</td>\n",
              "      <td>E09000021</td>\n",
              "      <td>E09000022</td>\n",
              "      <td>E09000023</td>\n",
              "      <td>E09000024</td>\n",
              "      <td>E09000025</td>\n",
              "      <td>E09000026</td>\n",
              "      <td>E09000027</td>\n",
              "      <td>E09000028</td>\n",
              "      <td>E09000029</td>\n",
              "      <td>E09000030</td>\n",
              "      <td>E09000031</td>\n",
              "      <td>E09000032</td>\n",
              "      <td>E09000033</td>\n",
              "      <td>NaN</td>\n",
              "      <td>E13000001</td>\n",
              "      <td>E13000002</td>\n",
              "      <td>NaN</td>\n",
              "      <td>E12000001</td>\n",
              "      <td>E12000002</td>\n",
              "      <td>E12000003</td>\n",
              "      <td>E12000004</td>\n",
              "      <td>E12000005</td>\n",
              "      <td>E12000006</td>\n",
              "      <td>E12000007</td>\n",
              "      <td>E12000008</td>\n",
              "      <td>E12000009</td>\n",
              "      <td>NaN</td>\n",
              "      <td>E92000001</td>\n",
              "    </tr>\n",
              "    <tr>\n",
              "      <th>1995-01-01</th>\n",
              "      <td>91449</td>\n",
              "      <td>50460.2</td>\n",
              "      <td>93284.5</td>\n",
              "      <td>64958.1</td>\n",
              "      <td>71306.6</td>\n",
              "      <td>81671.5</td>\n",
              "      <td>120933</td>\n",
              "      <td>69158.2</td>\n",
              "      <td>79885.9</td>\n",
              "      <td>72514.7</td>\n",
              "      <td>62300.1</td>\n",
              "      <td>61296.5</td>\n",
              "      <td>124903</td>\n",
              "      <td>76287.6</td>\n",
              "      <td>84769.5</td>\n",
              "      <td>68000.1</td>\n",
              "      <td>73834.8</td>\n",
              "      <td>72231.7</td>\n",
              "      <td>92516.5</td>\n",
              "      <td>182695</td>\n",
              "      <td>80875.8</td>\n",
              "      <td>67771</td>\n",
              "      <td>60491.3</td>\n",
              "      <td>82070.6</td>\n",
              "      <td>53539.3</td>\n",
              "      <td>72189.6</td>\n",
              "      <td>109326</td>\n",
              "      <td>67885.2</td>\n",
              "      <td>71537</td>\n",
              "      <td>59865.2</td>\n",
              "      <td>61319.4</td>\n",
              "      <td>88559</td>\n",
              "      <td>133025</td>\n",
              "      <td>NaN</td>\n",
              "      <td>78252</td>\n",
              "      <td>72958.8</td>\n",
              "      <td>NaN</td>\n",
              "      <td>42076.4</td>\n",
              "      <td>43958.5</td>\n",
              "      <td>44803.4</td>\n",
              "      <td>45544.5</td>\n",
              "      <td>48527.5</td>\n",
              "      <td>56701.6</td>\n",
              "      <td>74435.8</td>\n",
              "      <td>64018.9</td>\n",
              "      <td>54705.2</td>\n",
              "      <td>NaN</td>\n",
              "      <td>53202.8</td>\n",
              "    </tr>\n",
              "    <tr>\n",
              "      <th>1995-02-01</th>\n",
              "      <td>82202.8</td>\n",
              "      <td>51085.8</td>\n",
              "      <td>93190.2</td>\n",
              "      <td>64787.9</td>\n",
              "      <td>72022.3</td>\n",
              "      <td>81657.6</td>\n",
              "      <td>119509</td>\n",
              "      <td>68951.1</td>\n",
              "      <td>80897.1</td>\n",
              "      <td>73155.2</td>\n",
              "      <td>60993.3</td>\n",
              "      <td>63187.1</td>\n",
              "      <td>122088</td>\n",
              "      <td>78901.2</td>\n",
              "      <td>83396.1</td>\n",
              "      <td>69393.5</td>\n",
              "      <td>75031.1</td>\n",
              "      <td>71051.6</td>\n",
              "      <td>94342.4</td>\n",
              "      <td>182345</td>\n",
              "      <td>81230.1</td>\n",
              "      <td>65381.5</td>\n",
              "      <td>60869.3</td>\n",
              "      <td>79982.7</td>\n",
              "      <td>53153.9</td>\n",
              "      <td>72141.6</td>\n",
              "      <td>111103</td>\n",
              "      <td>64799.1</td>\n",
              "      <td>70893.2</td>\n",
              "      <td>62318.5</td>\n",
              "      <td>60252.1</td>\n",
              "      <td>88641</td>\n",
              "      <td>131468</td>\n",
              "      <td>NaN</td>\n",
              "      <td>75885.7</td>\n",
              "      <td>72937.9</td>\n",
              "      <td>NaN</td>\n",
              "      <td>42572</td>\n",
              "      <td>43925.4</td>\n",
              "      <td>44528.8</td>\n",
              "      <td>46051.6</td>\n",
              "      <td>49341.3</td>\n",
              "      <td>56593.6</td>\n",
              "      <td>72777.9</td>\n",
              "      <td>63715</td>\n",
              "      <td>54356.1</td>\n",
              "      <td>NaN</td>\n",
              "      <td>53096.2</td>\n",
              "    </tr>\n",
              "  </tbody>\n",
              "</table>\n",
              "</div>"
            ],
            "text/plain": [
              "           City of London Barking & Dagenham  ... Unnamed: 47    England\n",
              "NaT             E09000001          E09000002  ...         NaN  E92000001\n",
              "1995-01-01          91449            50460.2  ...         NaN    53202.8\n",
              "1995-02-01        82202.8            51085.8  ...         NaN    53096.2\n",
              "\n",
              "[3 rows x 48 columns]"
            ]
          },
          "metadata": {
            "tags": []
          },
          "execution_count": 205
        }
      ]
    },
    {
      "cell_type": "code",
      "metadata": {
        "id": "HyZpGtNii9zZ",
        "outputId": "710b878e-f5b6-43f8-91c1-233560998a19",
        "colab": {
          "base_uri": "https://localhost:8080/"
        }
      },
      "source": [
        "properties.shape"
      ],
      "execution_count": 206,
      "outputs": [
        {
          "output_type": "execute_result",
          "data": {
            "text/plain": [
              "(306, 48)"
            ]
          },
          "metadata": {
            "tags": []
          },
          "execution_count": 206
        }
      ]
    },
    {
      "cell_type": "markdown",
      "metadata": {
        "id": "tE9Sqt9-oAta"
      },
      "source": [
        "**2.2. Cleaning the data**\n",
        "\n",
        "You might find you need to transpose your dataframe, check out what its row indexes are, and reset the index. You  also might find you need to assign the values of the first row to your column headings  . (Hint: recall the .columns feature of DataFrames, as well as the iloc[] method).\n",
        "\n",
        "Don't be afraid to use StackOverflow for help  with this."
      ]
    },
    {
      "cell_type": "code",
      "metadata": {
        "id": "cdAu1A3YoH_r",
        "outputId": "04fa82d1-5092-4d4a-9361-905b517ae592",
        "colab": {
          "base_uri": "https://localhost:8080/",
          "height": 242
        }
      },
      "source": [
        "dflon = properties.transpose()\n",
        "dflon.head(3)"
      ],
      "execution_count": 207,
      "outputs": [
        {
          "output_type": "execute_result",
          "data": {
            "text/html": [
              "<div>\n",
              "<style scoped>\n",
              "    .dataframe tbody tr th:only-of-type {\n",
              "        vertical-align: middle;\n",
              "    }\n",
              "\n",
              "    .dataframe tbody tr th {\n",
              "        vertical-align: top;\n",
              "    }\n",
              "\n",
              "    .dataframe thead th {\n",
              "        text-align: right;\n",
              "    }\n",
              "</style>\n",
              "<table border=\"1\" class=\"dataframe\">\n",
              "  <thead>\n",
              "    <tr style=\"text-align: right;\">\n",
              "      <th></th>\n",
              "      <th>NaT</th>\n",
              "      <th>1995-01-01</th>\n",
              "      <th>1995-02-01</th>\n",
              "      <th>1995-03-01</th>\n",
              "      <th>1995-04-01</th>\n",
              "      <th>1995-05-01</th>\n",
              "      <th>1995-06-01</th>\n",
              "      <th>1995-07-01</th>\n",
              "      <th>1995-08-01</th>\n",
              "      <th>1995-09-01</th>\n",
              "      <th>1995-10-01</th>\n",
              "      <th>1995-11-01</th>\n",
              "      <th>1995-12-01</th>\n",
              "      <th>1996-01-01</th>\n",
              "      <th>1996-02-01</th>\n",
              "      <th>1996-03-01</th>\n",
              "      <th>1996-04-01</th>\n",
              "      <th>1996-05-01</th>\n",
              "      <th>1996-06-01</th>\n",
              "      <th>1996-07-01</th>\n",
              "      <th>1996-08-01</th>\n",
              "      <th>1996-09-01</th>\n",
              "      <th>1996-10-01</th>\n",
              "      <th>1996-11-01</th>\n",
              "      <th>1996-12-01</th>\n",
              "      <th>1997-01-01</th>\n",
              "      <th>1997-02-01</th>\n",
              "      <th>1997-03-01</th>\n",
              "      <th>1997-04-01</th>\n",
              "      <th>1997-05-01</th>\n",
              "      <th>1997-06-01</th>\n",
              "      <th>1997-07-01</th>\n",
              "      <th>1997-08-01</th>\n",
              "      <th>1997-09-01</th>\n",
              "      <th>1997-10-01</th>\n",
              "      <th>1997-11-01</th>\n",
              "      <th>1997-12-01</th>\n",
              "      <th>1998-01-01</th>\n",
              "      <th>1998-02-01</th>\n",
              "      <th>1998-03-01</th>\n",
              "      <th>...</th>\n",
              "      <th>2017-02-01</th>\n",
              "      <th>2017-03-01</th>\n",
              "      <th>2017-04-01</th>\n",
              "      <th>2017-05-01</th>\n",
              "      <th>2017-06-01</th>\n",
              "      <th>2017-07-01</th>\n",
              "      <th>2017-08-01</th>\n",
              "      <th>2017-09-01</th>\n",
              "      <th>2017-10-01</th>\n",
              "      <th>2017-11-01</th>\n",
              "      <th>2017-12-01</th>\n",
              "      <th>2018-01-01</th>\n",
              "      <th>2018-02-01</th>\n",
              "      <th>2018-03-01</th>\n",
              "      <th>2018-04-01</th>\n",
              "      <th>2018-05-01</th>\n",
              "      <th>2018-06-01</th>\n",
              "      <th>2018-07-01</th>\n",
              "      <th>2018-08-01</th>\n",
              "      <th>2018-09-01</th>\n",
              "      <th>2018-10-01</th>\n",
              "      <th>2018-11-01</th>\n",
              "      <th>2018-12-01</th>\n",
              "      <th>2019-01-01</th>\n",
              "      <th>2019-02-01</th>\n",
              "      <th>2019-03-01</th>\n",
              "      <th>2019-04-01</th>\n",
              "      <th>2019-05-01</th>\n",
              "      <th>2019-06-01</th>\n",
              "      <th>2019-07-01</th>\n",
              "      <th>2019-08-01</th>\n",
              "      <th>2019-09-01</th>\n",
              "      <th>2019-10-01</th>\n",
              "      <th>2019-11-01</th>\n",
              "      <th>2019-12-01</th>\n",
              "      <th>2020-01-01</th>\n",
              "      <th>2020-02-01</th>\n",
              "      <th>2020-03-01</th>\n",
              "      <th>2020-04-01</th>\n",
              "      <th>2020-05-01</th>\n",
              "    </tr>\n",
              "  </thead>\n",
              "  <tbody>\n",
              "    <tr>\n",
              "      <th>City of London</th>\n",
              "      <td>E09000001</td>\n",
              "      <td>91449</td>\n",
              "      <td>82202.8</td>\n",
              "      <td>79120.7</td>\n",
              "      <td>77101.2</td>\n",
              "      <td>84409.1</td>\n",
              "      <td>94900.5</td>\n",
              "      <td>110128</td>\n",
              "      <td>112329</td>\n",
              "      <td>104473</td>\n",
              "      <td>108038</td>\n",
              "      <td>117636</td>\n",
              "      <td>127232</td>\n",
              "      <td>108999</td>\n",
              "      <td>93356.7</td>\n",
              "      <td>93706.7</td>\n",
              "      <td>120543</td>\n",
              "      <td>112050</td>\n",
              "      <td>114226</td>\n",
              "      <td>97546.7</td>\n",
              "      <td>114179</td>\n",
              "      <td>108138</td>\n",
              "      <td>98934.2</td>\n",
              "      <td>99706.8</td>\n",
              "      <td>106427</td>\n",
              "      <td>116343</td>\n",
              "      <td>111142</td>\n",
              "      <td>107488</td>\n",
              "      <td>108480</td>\n",
              "      <td>115453</td>\n",
              "      <td>118317</td>\n",
              "      <td>117034</td>\n",
              "      <td>113585</td>\n",
              "      <td>115159</td>\n",
              "      <td>121251</td>\n",
              "      <td>131074</td>\n",
              "      <td>130035</td>\n",
              "      <td>124382</td>\n",
              "      <td>143829</td>\n",
              "      <td>156508</td>\n",
              "      <td>...</td>\n",
              "      <td>820665</td>\n",
              "      <td>853943</td>\n",
              "      <td>906146</td>\n",
              "      <td>939912</td>\n",
              "      <td>930979</td>\n",
              "      <td>854798</td>\n",
              "      <td>847422</td>\n",
              "      <td>836674</td>\n",
              "      <td>818477</td>\n",
              "      <td>790159</td>\n",
              "      <td>778002</td>\n",
              "      <td>802129</td>\n",
              "      <td>783266</td>\n",
              "      <td>740799</td>\n",
              "      <td>732351</td>\n",
              "      <td>796399</td>\n",
              "      <td>789278</td>\n",
              "      <td>809697</td>\n",
              "      <td>784144</td>\n",
              "      <td>800875</td>\n",
              "      <td>802869</td>\n",
              "      <td>764207</td>\n",
              "      <td>811694</td>\n",
              "      <td>865636</td>\n",
              "      <td>894520</td>\n",
              "      <td>853451</td>\n",
              "      <td>738797</td>\n",
              "      <td>719218</td>\n",
              "      <td>761526</td>\n",
              "      <td>756407</td>\n",
              "      <td>813770</td>\n",
              "      <td>810455</td>\n",
              "      <td>826227</td>\n",
              "      <td>776894</td>\n",
              "      <td>737275</td>\n",
              "      <td>747611</td>\n",
              "      <td>777640</td>\n",
              "      <td>844989</td>\n",
              "      <td>867841</td>\n",
              "      <td>899831</td>\n",
              "    </tr>\n",
              "    <tr>\n",
              "      <th>Barking &amp; Dagenham</th>\n",
              "      <td>E09000002</td>\n",
              "      <td>50460.2</td>\n",
              "      <td>51085.8</td>\n",
              "      <td>51269</td>\n",
              "      <td>53133.5</td>\n",
              "      <td>53042.2</td>\n",
              "      <td>53700.3</td>\n",
              "      <td>52113.1</td>\n",
              "      <td>52232.2</td>\n",
              "      <td>51471.6</td>\n",
              "      <td>51513.8</td>\n",
              "      <td>50848.7</td>\n",
              "      <td>50945.2</td>\n",
              "      <td>50828.1</td>\n",
              "      <td>51440.7</td>\n",
              "      <td>51907.1</td>\n",
              "      <td>51724</td>\n",
              "      <td>51735.7</td>\n",
              "      <td>50761.4</td>\n",
              "      <td>50621.1</td>\n",
              "      <td>51104.7</td>\n",
              "      <td>51892.7</td>\n",
              "      <td>52533.2</td>\n",
              "      <td>52216</td>\n",
              "      <td>53853.5</td>\n",
              "      <td>54459</td>\n",
              "      <td>55451.5</td>\n",
              "      <td>55004.8</td>\n",
              "      <td>55279.9</td>\n",
              "      <td>54936.9</td>\n",
              "      <td>55286.7</td>\n",
              "      <td>55658.9</td>\n",
              "      <td>56506.7</td>\n",
              "      <td>56306.3</td>\n",
              "      <td>57200.2</td>\n",
              "      <td>57575.3</td>\n",
              "      <td>58025</td>\n",
              "      <td>57559</td>\n",
              "      <td>57360.3</td>\n",
              "      <td>57908.5</td>\n",
              "      <td>...</td>\n",
              "      <td>280698</td>\n",
              "      <td>278213</td>\n",
              "      <td>280567</td>\n",
              "      <td>286018</td>\n",
              "      <td>289569</td>\n",
              "      <td>291727</td>\n",
              "      <td>290965</td>\n",
              "      <td>292519</td>\n",
              "      <td>293390</td>\n",
              "      <td>293796</td>\n",
              "      <td>292915</td>\n",
              "      <td>291548</td>\n",
              "      <td>292777</td>\n",
              "      <td>291723</td>\n",
              "      <td>291184</td>\n",
              "      <td>290239</td>\n",
              "      <td>294236</td>\n",
              "      <td>294953</td>\n",
              "      <td>295908</td>\n",
              "      <td>296424</td>\n",
              "      <td>299648</td>\n",
              "      <td>302606</td>\n",
              "      <td>301114</td>\n",
              "      <td>297181</td>\n",
              "      <td>293839</td>\n",
              "      <td>294065</td>\n",
              "      <td>295498</td>\n",
              "      <td>295092</td>\n",
              "      <td>293889</td>\n",
              "      <td>297426</td>\n",
              "      <td>299421</td>\n",
              "      <td>304778</td>\n",
              "      <td>304579</td>\n",
              "      <td>306390</td>\n",
              "      <td>301283</td>\n",
              "      <td>303653</td>\n",
              "      <td>304265</td>\n",
              "      <td>304099</td>\n",
              "      <td>283139</td>\n",
              "      <td>295744</td>\n",
              "    </tr>\n",
              "    <tr>\n",
              "      <th>Barnet</th>\n",
              "      <td>E09000003</td>\n",
              "      <td>93284.5</td>\n",
              "      <td>93190.2</td>\n",
              "      <td>92247.5</td>\n",
              "      <td>90762.9</td>\n",
              "      <td>90258</td>\n",
              "      <td>90107.2</td>\n",
              "      <td>91441.2</td>\n",
              "      <td>92361.3</td>\n",
              "      <td>93273.1</td>\n",
              "      <td>92567.4</td>\n",
              "      <td>90883.2</td>\n",
              "      <td>91133.9</td>\n",
              "      <td>91111</td>\n",
              "      <td>92429.5</td>\n",
              "      <td>91409.8</td>\n",
              "      <td>92394.2</td>\n",
              "      <td>91058.9</td>\n",
              "      <td>91978.2</td>\n",
              "      <td>92444.1</td>\n",
              "      <td>95516</td>\n",
              "      <td>97489.9</td>\n",
              "      <td>97844.5</td>\n",
              "      <td>97155</td>\n",
              "      <td>97174.3</td>\n",
              "      <td>98558.8</td>\n",
              "      <td>100076</td>\n",
              "      <td>101130</td>\n",
              "      <td>101201</td>\n",
              "      <td>103287</td>\n",
              "      <td>104609</td>\n",
              "      <td>107235</td>\n",
              "      <td>108730</td>\n",
              "      <td>112380</td>\n",
              "      <td>114515</td>\n",
              "      <td>115356</td>\n",
              "      <td>115521</td>\n",
              "      <td>115902</td>\n",
              "      <td>116995</td>\n",
              "      <td>118866</td>\n",
              "      <td>...</td>\n",
              "      <td>540501</td>\n",
              "      <td>549401</td>\n",
              "      <td>543699</td>\n",
              "      <td>544994</td>\n",
              "      <td>531344</td>\n",
              "      <td>527928</td>\n",
              "      <td>526223</td>\n",
              "      <td>537986</td>\n",
              "      <td>544090</td>\n",
              "      <td>541563</td>\n",
              "      <td>538718</td>\n",
              "      <td>531832</td>\n",
              "      <td>531736</td>\n",
              "      <td>538120</td>\n",
              "      <td>541502</td>\n",
              "      <td>533088</td>\n",
              "      <td>524702</td>\n",
              "      <td>523397</td>\n",
              "      <td>533715</td>\n",
              "      <td>534951</td>\n",
              "      <td>537284</td>\n",
              "      <td>535060</td>\n",
              "      <td>533810</td>\n",
              "      <td>528639</td>\n",
              "      <td>523679</td>\n",
              "      <td>516531</td>\n",
              "      <td>512343</td>\n",
              "      <td>503911</td>\n",
              "      <td>512694</td>\n",
              "      <td>514668</td>\n",
              "      <td>528577</td>\n",
              "      <td>526670</td>\n",
              "      <td>525678</td>\n",
              "      <td>522639</td>\n",
              "      <td>519306</td>\n",
              "      <td>518542</td>\n",
              "      <td>519121</td>\n",
              "      <td>527747</td>\n",
              "      <td>526553</td>\n",
              "      <td>532503</td>\n",
              "    </tr>\n",
              "  </tbody>\n",
              "</table>\n",
              "<p>3 rows × 306 columns</p>\n",
              "</div>"
            ],
            "text/plain": [
              "                          NaT 1995-01-01  ... 2020-04-01 2020-05-01\n",
              "City of London      E09000001      91449  ...     867841     899831\n",
              "Barking & Dagenham  E09000002    50460.2  ...     283139     295744\n",
              "Barnet              E09000003    93284.5  ...     526553     532503\n",
              "\n",
              "[3 rows x 306 columns]"
            ]
          },
          "metadata": {
            "tags": []
          },
          "execution_count": 207
        }
      ]
    },
    {
      "cell_type": "markdown",
      "metadata": {
        "id": "o1uLbJAsoIjK"
      },
      "source": [
        "**2.3. Cleaning the data (part 2)**\n",
        "\n",
        "You might we have to **rename** a couple columns. How do you do this? The clue's pretty bold..."
      ]
    },
    {
      "cell_type": "code",
      "metadata": {
        "id": "GKkmn1AnoVZS",
        "outputId": "7c689ca0-1740-4210-98f1-af6cff41d817",
        "colab": {
          "base_uri": "https://localhost:8080/"
        }
      },
      "source": [
        "dflon.index"
      ],
      "execution_count": 208,
      "outputs": [
        {
          "output_type": "execute_result",
          "data": {
            "text/plain": [
              "Index(['City of London', 'Barking & Dagenham', 'Barnet', 'Bexley', 'Brent',\n",
              "       'Bromley', 'Camden', 'Croydon', 'Ealing', 'Enfield', 'Greenwich',\n",
              "       'Hackney', 'Hammersmith & Fulham', 'Haringey', 'Harrow', 'Havering',\n",
              "       'Hillingdon', 'Hounslow', 'Islington', 'Kensington & Chelsea',\n",
              "       'Kingston upon Thames', 'Lambeth', 'Lewisham', 'Merton', 'Newham',\n",
              "       'Redbridge', 'Richmond upon Thames', 'Southwark', 'Sutton',\n",
              "       'Tower Hamlets', 'Waltham Forest', 'Wandsworth', 'Westminster',\n",
              "       'Unnamed: 34', 'Inner London', 'Outer London', 'Unnamed: 37',\n",
              "       'NORTH EAST', 'NORTH WEST', 'YORKS & THE HUMBER', 'EAST MIDLANDS',\n",
              "       'WEST MIDLANDS', 'EAST OF ENGLAND', 'LONDON', 'SOUTH EAST',\n",
              "       'SOUTH WEST', 'Unnamed: 47', 'England'],\n",
              "      dtype='object')"
            ]
          },
          "metadata": {
            "tags": []
          },
          "execution_count": 208
        }
      ]
    },
    {
      "cell_type": "code",
      "metadata": {
        "id": "J0XeWolvPYSk",
        "outputId": "3fcc8232-8ccd-4ccc-eb40-7963b4a1fe9f",
        "colab": {
          "base_uri": "https://localhost:8080/",
          "height": 259
        }
      },
      "source": [
        "dflon1 = dflon.reset_index()\n",
        "dflon1.rename(columns={dflon1.columns[0]: \"Borough\", dflon1.columns[1]: \"Postal Code\"}, inplace = True)\n",
        "dflon1.head(3)"
      ],
      "execution_count": 209,
      "outputs": [
        {
          "output_type": "execute_result",
          "data": {
            "text/html": [
              "<div>\n",
              "<style scoped>\n",
              "    .dataframe tbody tr th:only-of-type {\n",
              "        vertical-align: middle;\n",
              "    }\n",
              "\n",
              "    .dataframe tbody tr th {\n",
              "        vertical-align: top;\n",
              "    }\n",
              "\n",
              "    .dataframe thead th {\n",
              "        text-align: right;\n",
              "    }\n",
              "</style>\n",
              "<table border=\"1\" class=\"dataframe\">\n",
              "  <thead>\n",
              "    <tr style=\"text-align: right;\">\n",
              "      <th></th>\n",
              "      <th>Borough</th>\n",
              "      <th>Postal Code</th>\n",
              "      <th>1995-01-01 00:00:00</th>\n",
              "      <th>1995-02-01 00:00:00</th>\n",
              "      <th>1995-03-01 00:00:00</th>\n",
              "      <th>1995-04-01 00:00:00</th>\n",
              "      <th>1995-05-01 00:00:00</th>\n",
              "      <th>1995-06-01 00:00:00</th>\n",
              "      <th>1995-07-01 00:00:00</th>\n",
              "      <th>1995-08-01 00:00:00</th>\n",
              "      <th>1995-09-01 00:00:00</th>\n",
              "      <th>1995-10-01 00:00:00</th>\n",
              "      <th>1995-11-01 00:00:00</th>\n",
              "      <th>1995-12-01 00:00:00</th>\n",
              "      <th>1996-01-01 00:00:00</th>\n",
              "      <th>1996-02-01 00:00:00</th>\n",
              "      <th>1996-03-01 00:00:00</th>\n",
              "      <th>1996-04-01 00:00:00</th>\n",
              "      <th>1996-05-01 00:00:00</th>\n",
              "      <th>1996-06-01 00:00:00</th>\n",
              "      <th>1996-07-01 00:00:00</th>\n",
              "      <th>1996-08-01 00:00:00</th>\n",
              "      <th>1996-09-01 00:00:00</th>\n",
              "      <th>1996-10-01 00:00:00</th>\n",
              "      <th>1996-11-01 00:00:00</th>\n",
              "      <th>1996-12-01 00:00:00</th>\n",
              "      <th>1997-01-01 00:00:00</th>\n",
              "      <th>1997-02-01 00:00:00</th>\n",
              "      <th>1997-03-01 00:00:00</th>\n",
              "      <th>1997-04-01 00:00:00</th>\n",
              "      <th>1997-05-01 00:00:00</th>\n",
              "      <th>1997-06-01 00:00:00</th>\n",
              "      <th>1997-07-01 00:00:00</th>\n",
              "      <th>1997-08-01 00:00:00</th>\n",
              "      <th>1997-09-01 00:00:00</th>\n",
              "      <th>1997-10-01 00:00:00</th>\n",
              "      <th>1997-11-01 00:00:00</th>\n",
              "      <th>1997-12-01 00:00:00</th>\n",
              "      <th>1998-01-01 00:00:00</th>\n",
              "      <th>1998-02-01 00:00:00</th>\n",
              "      <th>...</th>\n",
              "      <th>2017-02-01 00:00:00</th>\n",
              "      <th>2017-03-01 00:00:00</th>\n",
              "      <th>2017-04-01 00:00:00</th>\n",
              "      <th>2017-05-01 00:00:00</th>\n",
              "      <th>2017-06-01 00:00:00</th>\n",
              "      <th>2017-07-01 00:00:00</th>\n",
              "      <th>2017-08-01 00:00:00</th>\n",
              "      <th>2017-09-01 00:00:00</th>\n",
              "      <th>2017-10-01 00:00:00</th>\n",
              "      <th>2017-11-01 00:00:00</th>\n",
              "      <th>2017-12-01 00:00:00</th>\n",
              "      <th>2018-01-01 00:00:00</th>\n",
              "      <th>2018-02-01 00:00:00</th>\n",
              "      <th>2018-03-01 00:00:00</th>\n",
              "      <th>2018-04-01 00:00:00</th>\n",
              "      <th>2018-05-01 00:00:00</th>\n",
              "      <th>2018-06-01 00:00:00</th>\n",
              "      <th>2018-07-01 00:00:00</th>\n",
              "      <th>2018-08-01 00:00:00</th>\n",
              "      <th>2018-09-01 00:00:00</th>\n",
              "      <th>2018-10-01 00:00:00</th>\n",
              "      <th>2018-11-01 00:00:00</th>\n",
              "      <th>2018-12-01 00:00:00</th>\n",
              "      <th>2019-01-01 00:00:00</th>\n",
              "      <th>2019-02-01 00:00:00</th>\n",
              "      <th>2019-03-01 00:00:00</th>\n",
              "      <th>2019-04-01 00:00:00</th>\n",
              "      <th>2019-05-01 00:00:00</th>\n",
              "      <th>2019-06-01 00:00:00</th>\n",
              "      <th>2019-07-01 00:00:00</th>\n",
              "      <th>2019-08-01 00:00:00</th>\n",
              "      <th>2019-09-01 00:00:00</th>\n",
              "      <th>2019-10-01 00:00:00</th>\n",
              "      <th>2019-11-01 00:00:00</th>\n",
              "      <th>2019-12-01 00:00:00</th>\n",
              "      <th>2020-01-01 00:00:00</th>\n",
              "      <th>2020-02-01 00:00:00</th>\n",
              "      <th>2020-03-01 00:00:00</th>\n",
              "      <th>2020-04-01 00:00:00</th>\n",
              "      <th>2020-05-01 00:00:00</th>\n",
              "    </tr>\n",
              "  </thead>\n",
              "  <tbody>\n",
              "    <tr>\n",
              "      <th>0</th>\n",
              "      <td>City of London</td>\n",
              "      <td>E09000001</td>\n",
              "      <td>91449</td>\n",
              "      <td>82202.8</td>\n",
              "      <td>79120.7</td>\n",
              "      <td>77101.2</td>\n",
              "      <td>84409.1</td>\n",
              "      <td>94900.5</td>\n",
              "      <td>110128</td>\n",
              "      <td>112329</td>\n",
              "      <td>104473</td>\n",
              "      <td>108038</td>\n",
              "      <td>117636</td>\n",
              "      <td>127232</td>\n",
              "      <td>108999</td>\n",
              "      <td>93356.7</td>\n",
              "      <td>93706.7</td>\n",
              "      <td>120543</td>\n",
              "      <td>112050</td>\n",
              "      <td>114226</td>\n",
              "      <td>97546.7</td>\n",
              "      <td>114179</td>\n",
              "      <td>108138</td>\n",
              "      <td>98934.2</td>\n",
              "      <td>99706.8</td>\n",
              "      <td>106427</td>\n",
              "      <td>116343</td>\n",
              "      <td>111142</td>\n",
              "      <td>107488</td>\n",
              "      <td>108480</td>\n",
              "      <td>115453</td>\n",
              "      <td>118317</td>\n",
              "      <td>117034</td>\n",
              "      <td>113585</td>\n",
              "      <td>115159</td>\n",
              "      <td>121251</td>\n",
              "      <td>131074</td>\n",
              "      <td>130035</td>\n",
              "      <td>124382</td>\n",
              "      <td>143829</td>\n",
              "      <td>...</td>\n",
              "      <td>820665</td>\n",
              "      <td>853943</td>\n",
              "      <td>906146</td>\n",
              "      <td>939912</td>\n",
              "      <td>930979</td>\n",
              "      <td>854798</td>\n",
              "      <td>847422</td>\n",
              "      <td>836674</td>\n",
              "      <td>818477</td>\n",
              "      <td>790159</td>\n",
              "      <td>778002</td>\n",
              "      <td>802129</td>\n",
              "      <td>783266</td>\n",
              "      <td>740799</td>\n",
              "      <td>732351</td>\n",
              "      <td>796399</td>\n",
              "      <td>789278</td>\n",
              "      <td>809697</td>\n",
              "      <td>784144</td>\n",
              "      <td>800875</td>\n",
              "      <td>802869</td>\n",
              "      <td>764207</td>\n",
              "      <td>811694</td>\n",
              "      <td>865636</td>\n",
              "      <td>894520</td>\n",
              "      <td>853451</td>\n",
              "      <td>738797</td>\n",
              "      <td>719218</td>\n",
              "      <td>761526</td>\n",
              "      <td>756407</td>\n",
              "      <td>813770</td>\n",
              "      <td>810455</td>\n",
              "      <td>826227</td>\n",
              "      <td>776894</td>\n",
              "      <td>737275</td>\n",
              "      <td>747611</td>\n",
              "      <td>777640</td>\n",
              "      <td>844989</td>\n",
              "      <td>867841</td>\n",
              "      <td>899831</td>\n",
              "    </tr>\n",
              "    <tr>\n",
              "      <th>1</th>\n",
              "      <td>Barking &amp; Dagenham</td>\n",
              "      <td>E09000002</td>\n",
              "      <td>50460.2</td>\n",
              "      <td>51085.8</td>\n",
              "      <td>51269</td>\n",
              "      <td>53133.5</td>\n",
              "      <td>53042.2</td>\n",
              "      <td>53700.3</td>\n",
              "      <td>52113.1</td>\n",
              "      <td>52232.2</td>\n",
              "      <td>51471.6</td>\n",
              "      <td>51513.8</td>\n",
              "      <td>50848.7</td>\n",
              "      <td>50945.2</td>\n",
              "      <td>50828.1</td>\n",
              "      <td>51440.7</td>\n",
              "      <td>51907.1</td>\n",
              "      <td>51724</td>\n",
              "      <td>51735.7</td>\n",
              "      <td>50761.4</td>\n",
              "      <td>50621.1</td>\n",
              "      <td>51104.7</td>\n",
              "      <td>51892.7</td>\n",
              "      <td>52533.2</td>\n",
              "      <td>52216</td>\n",
              "      <td>53853.5</td>\n",
              "      <td>54459</td>\n",
              "      <td>55451.5</td>\n",
              "      <td>55004.8</td>\n",
              "      <td>55279.9</td>\n",
              "      <td>54936.9</td>\n",
              "      <td>55286.7</td>\n",
              "      <td>55658.9</td>\n",
              "      <td>56506.7</td>\n",
              "      <td>56306.3</td>\n",
              "      <td>57200.2</td>\n",
              "      <td>57575.3</td>\n",
              "      <td>58025</td>\n",
              "      <td>57559</td>\n",
              "      <td>57360.3</td>\n",
              "      <td>...</td>\n",
              "      <td>280698</td>\n",
              "      <td>278213</td>\n",
              "      <td>280567</td>\n",
              "      <td>286018</td>\n",
              "      <td>289569</td>\n",
              "      <td>291727</td>\n",
              "      <td>290965</td>\n",
              "      <td>292519</td>\n",
              "      <td>293390</td>\n",
              "      <td>293796</td>\n",
              "      <td>292915</td>\n",
              "      <td>291548</td>\n",
              "      <td>292777</td>\n",
              "      <td>291723</td>\n",
              "      <td>291184</td>\n",
              "      <td>290239</td>\n",
              "      <td>294236</td>\n",
              "      <td>294953</td>\n",
              "      <td>295908</td>\n",
              "      <td>296424</td>\n",
              "      <td>299648</td>\n",
              "      <td>302606</td>\n",
              "      <td>301114</td>\n",
              "      <td>297181</td>\n",
              "      <td>293839</td>\n",
              "      <td>294065</td>\n",
              "      <td>295498</td>\n",
              "      <td>295092</td>\n",
              "      <td>293889</td>\n",
              "      <td>297426</td>\n",
              "      <td>299421</td>\n",
              "      <td>304778</td>\n",
              "      <td>304579</td>\n",
              "      <td>306390</td>\n",
              "      <td>301283</td>\n",
              "      <td>303653</td>\n",
              "      <td>304265</td>\n",
              "      <td>304099</td>\n",
              "      <td>283139</td>\n",
              "      <td>295744</td>\n",
              "    </tr>\n",
              "    <tr>\n",
              "      <th>2</th>\n",
              "      <td>Barnet</td>\n",
              "      <td>E09000003</td>\n",
              "      <td>93284.5</td>\n",
              "      <td>93190.2</td>\n",
              "      <td>92247.5</td>\n",
              "      <td>90762.9</td>\n",
              "      <td>90258</td>\n",
              "      <td>90107.2</td>\n",
              "      <td>91441.2</td>\n",
              "      <td>92361.3</td>\n",
              "      <td>93273.1</td>\n",
              "      <td>92567.4</td>\n",
              "      <td>90883.2</td>\n",
              "      <td>91133.9</td>\n",
              "      <td>91111</td>\n",
              "      <td>92429.5</td>\n",
              "      <td>91409.8</td>\n",
              "      <td>92394.2</td>\n",
              "      <td>91058.9</td>\n",
              "      <td>91978.2</td>\n",
              "      <td>92444.1</td>\n",
              "      <td>95516</td>\n",
              "      <td>97489.9</td>\n",
              "      <td>97844.5</td>\n",
              "      <td>97155</td>\n",
              "      <td>97174.3</td>\n",
              "      <td>98558.8</td>\n",
              "      <td>100076</td>\n",
              "      <td>101130</td>\n",
              "      <td>101201</td>\n",
              "      <td>103287</td>\n",
              "      <td>104609</td>\n",
              "      <td>107235</td>\n",
              "      <td>108730</td>\n",
              "      <td>112380</td>\n",
              "      <td>114515</td>\n",
              "      <td>115356</td>\n",
              "      <td>115521</td>\n",
              "      <td>115902</td>\n",
              "      <td>116995</td>\n",
              "      <td>...</td>\n",
              "      <td>540501</td>\n",
              "      <td>549401</td>\n",
              "      <td>543699</td>\n",
              "      <td>544994</td>\n",
              "      <td>531344</td>\n",
              "      <td>527928</td>\n",
              "      <td>526223</td>\n",
              "      <td>537986</td>\n",
              "      <td>544090</td>\n",
              "      <td>541563</td>\n",
              "      <td>538718</td>\n",
              "      <td>531832</td>\n",
              "      <td>531736</td>\n",
              "      <td>538120</td>\n",
              "      <td>541502</td>\n",
              "      <td>533088</td>\n",
              "      <td>524702</td>\n",
              "      <td>523397</td>\n",
              "      <td>533715</td>\n",
              "      <td>534951</td>\n",
              "      <td>537284</td>\n",
              "      <td>535060</td>\n",
              "      <td>533810</td>\n",
              "      <td>528639</td>\n",
              "      <td>523679</td>\n",
              "      <td>516531</td>\n",
              "      <td>512343</td>\n",
              "      <td>503911</td>\n",
              "      <td>512694</td>\n",
              "      <td>514668</td>\n",
              "      <td>528577</td>\n",
              "      <td>526670</td>\n",
              "      <td>525678</td>\n",
              "      <td>522639</td>\n",
              "      <td>519306</td>\n",
              "      <td>518542</td>\n",
              "      <td>519121</td>\n",
              "      <td>527747</td>\n",
              "      <td>526553</td>\n",
              "      <td>532503</td>\n",
              "    </tr>\n",
              "  </tbody>\n",
              "</table>\n",
              "<p>3 rows × 307 columns</p>\n",
              "</div>"
            ],
            "text/plain": [
              "              Borough Postal Code  ... 2020-04-01 00:00:00 2020-05-01 00:00:00\n",
              "0      City of London   E09000001  ...              867841              899831\n",
              "1  Barking & Dagenham   E09000002  ...              283139              295744\n",
              "2              Barnet   E09000003  ...              526553              532503\n",
              "\n",
              "[3 rows x 307 columns]"
            ]
          },
          "metadata": {
            "tags": []
          },
          "execution_count": 209
        }
      ]
    },
    {
      "cell_type": "code",
      "metadata": {
        "id": "yJEBeJolPqc_",
        "outputId": "eaa3e48d-f890-4ecb-d92e-6efc2ea50f9d",
        "colab": {
          "base_uri": "https://localhost:8080/"
        }
      },
      "source": [
        "dflon1.columns"
      ],
      "execution_count": 210,
      "outputs": [
        {
          "output_type": "execute_result",
          "data": {
            "text/plain": [
              "Index([          'Borough',       'Postal Code', 1995-01-01 00:00:00,\n",
              "       1995-02-01 00:00:00, 1995-03-01 00:00:00, 1995-04-01 00:00:00,\n",
              "       1995-05-01 00:00:00, 1995-06-01 00:00:00, 1995-07-01 00:00:00,\n",
              "       1995-08-01 00:00:00,\n",
              "       ...\n",
              "       2019-08-01 00:00:00, 2019-09-01 00:00:00, 2019-10-01 00:00:00,\n",
              "       2019-11-01 00:00:00, 2019-12-01 00:00:00, 2020-01-01 00:00:00,\n",
              "       2020-02-01 00:00:00, 2020-03-01 00:00:00, 2020-04-01 00:00:00,\n",
              "       2020-05-01 00:00:00],\n",
              "      dtype='object', length=307)"
            ]
          },
          "metadata": {
            "tags": []
          },
          "execution_count": 210
        }
      ]
    },
    {
      "cell_type": "markdown",
      "metadata": {
        "id": "jy8BzXHmoWEw"
      },
      "source": [
        "**2.4.Transforming the data**\n",
        "\n",
        "Remember what Wes McKinney said about tidy data? \n",
        "\n",
        "You might need to **melt** your DataFrame here. "
      ]
    },
    {
      "cell_type": "code",
      "metadata": {
        "id": "S2wM0qLuo2Zt",
        "outputId": "eae6d345-8030-4fb7-e569-ccca0c9ac401",
        "colab": {
          "base_uri": "https://localhost:8080/",
          "height": 141
        }
      },
      "source": [
        "dflon_cleaned = pd.melt(dflon1, id_vars= ['Borough', 'Postal Code'])\n",
        "dflon_cleaned.rename(columns={dflon_cleaned.columns[2]: \"Month\"}, inplace = True)\n",
        "dflon_cleaned.rename(columns={dflon_cleaned.columns[3]: \"Avg Value\"}, inplace = True)\n",
        "dflon_cleaned.head(3)"
      ],
      "execution_count": 211,
      "outputs": [
        {
          "output_type": "execute_result",
          "data": {
            "text/html": [
              "<div>\n",
              "<style scoped>\n",
              "    .dataframe tbody tr th:only-of-type {\n",
              "        vertical-align: middle;\n",
              "    }\n",
              "\n",
              "    .dataframe tbody tr th {\n",
              "        vertical-align: top;\n",
              "    }\n",
              "\n",
              "    .dataframe thead th {\n",
              "        text-align: right;\n",
              "    }\n",
              "</style>\n",
              "<table border=\"1\" class=\"dataframe\">\n",
              "  <thead>\n",
              "    <tr style=\"text-align: right;\">\n",
              "      <th></th>\n",
              "      <th>Borough</th>\n",
              "      <th>Postal Code</th>\n",
              "      <th>Month</th>\n",
              "      <th>Avg Value</th>\n",
              "    </tr>\n",
              "  </thead>\n",
              "  <tbody>\n",
              "    <tr>\n",
              "      <th>0</th>\n",
              "      <td>City of London</td>\n",
              "      <td>E09000001</td>\n",
              "      <td>1995-01-01</td>\n",
              "      <td>91449</td>\n",
              "    </tr>\n",
              "    <tr>\n",
              "      <th>1</th>\n",
              "      <td>Barking &amp; Dagenham</td>\n",
              "      <td>E09000002</td>\n",
              "      <td>1995-01-01</td>\n",
              "      <td>50460.2</td>\n",
              "    </tr>\n",
              "    <tr>\n",
              "      <th>2</th>\n",
              "      <td>Barnet</td>\n",
              "      <td>E09000003</td>\n",
              "      <td>1995-01-01</td>\n",
              "      <td>93284.5</td>\n",
              "    </tr>\n",
              "  </tbody>\n",
              "</table>\n",
              "</div>"
            ],
            "text/plain": [
              "              Borough Postal Code      Month Avg Value\n",
              "0      City of London   E09000001 1995-01-01     91449\n",
              "1  Barking & Dagenham   E09000002 1995-01-01   50460.2\n",
              "2              Barnet   E09000003 1995-01-01   93284.5"
            ]
          },
          "metadata": {
            "tags": []
          },
          "execution_count": 211
        }
      ]
    },
    {
      "cell_type": "markdown",
      "metadata": {
        "id": "7kIsgAo7o3mf"
      },
      "source": [
        "Remember to make sure your column data types are all correct. Average prices, for example, should be floating point numbers... "
      ]
    },
    {
      "cell_type": "code",
      "metadata": {
        "id": "ZcR4IHbcpOaq",
        "outputId": "044bdbbd-5a1f-4e42-8648-cbad4d9f026e",
        "colab": {
          "base_uri": "https://localhost:8080/"
        }
      },
      "source": [
        "dflon_cleaned.info()"
      ],
      "execution_count": 212,
      "outputs": [
        {
          "output_type": "stream",
          "text": [
            "<class 'pandas.core.frame.DataFrame'>\n",
            "RangeIndex: 14640 entries, 0 to 14639\n",
            "Data columns (total 4 columns):\n",
            " #   Column       Non-Null Count  Dtype         \n",
            "---  ------       --------------  -----         \n",
            " 0   Borough      14640 non-null  object        \n",
            " 1   Postal Code  13725 non-null  object        \n",
            " 2   Month        14640 non-null  datetime64[ns]\n",
            " 3   Avg Value    13725 non-null  object        \n",
            "dtypes: datetime64[ns](1), object(3)\n",
            "memory usage: 457.6+ KB\n"
          ],
          "name": "stdout"
        }
      ]
    },
    {
      "cell_type": "code",
      "metadata": {
        "id": "dqxrc96gONax",
        "outputId": "1364705b-7ab9-43ec-fbc2-41261dfa5a68",
        "colab": {
          "base_uri": "https://localhost:8080/"
        }
      },
      "source": [
        "# change Avg Value from datatype=object to float\n",
        "dflon_cleaned['Avg Value']= pd.to_numeric(dflon_cleaned['Avg Value'], downcast=\"float\")\n",
        "dflon_cleaned.info()"
      ],
      "execution_count": 213,
      "outputs": [
        {
          "output_type": "stream",
          "text": [
            "<class 'pandas.core.frame.DataFrame'>\n",
            "RangeIndex: 14640 entries, 0 to 14639\n",
            "Data columns (total 4 columns):\n",
            " #   Column       Non-Null Count  Dtype         \n",
            "---  ------       --------------  -----         \n",
            " 0   Borough      14640 non-null  object        \n",
            " 1   Postal Code  13725 non-null  object        \n",
            " 2   Month        14640 non-null  datetime64[ns]\n",
            " 3   Avg Value    13725 non-null  float32       \n",
            "dtypes: datetime64[ns](1), float32(1), object(2)\n",
            "memory usage: 400.4+ KB\n"
          ],
          "name": "stdout"
        }
      ]
    },
    {
      "cell_type": "markdown",
      "metadata": {
        "id": "knLUXHLypOtw"
      },
      "source": [
        "**2.5. Cleaning the data (part 3)**\n",
        "\n",
        "Do we have an equal number of observations in the ID, Average Price, Month, and London Borough columns? Remember that there are only 32 London Boroughs. How many entries do you have in that column? \n",
        "\n",
        "Check out the contents of the London Borough column, and if you find null values, get rid of them however you see fit. "
      ]
    },
    {
      "cell_type": "code",
      "metadata": {
        "id": "BnvTW5a3p0fC",
        "outputId": "bbe97106-196b-49e1-f808-08c969b19756",
        "colab": {
          "base_uri": "https://localhost:8080/"
        }
      },
      "source": [
        "dflon_cleaned.count()"
      ],
      "execution_count": 214,
      "outputs": [
        {
          "output_type": "execute_result",
          "data": {
            "text/plain": [
              "Borough        14640\n",
              "Postal Code    13725\n",
              "Month          14640\n",
              "Avg Value      13725\n",
              "dtype: int64"
            ]
          },
          "metadata": {
            "tags": []
          },
          "execution_count": 214
        }
      ]
    },
    {
      "cell_type": "code",
      "metadata": {
        "id": "FlkkK3CvqiFc",
        "outputId": "a39955f4-4cff-4c33-9793-0f9ad49a0603",
        "colab": {
          "base_uri": "https://localhost:8080/",
          "height": 415
        }
      },
      "source": [
        "dflon_cleaned[dflon_cleaned['Avg Value'].isna()]"
      ],
      "execution_count": 215,
      "outputs": [
        {
          "output_type": "execute_result",
          "data": {
            "text/html": [
              "<div>\n",
              "<style scoped>\n",
              "    .dataframe tbody tr th:only-of-type {\n",
              "        vertical-align: middle;\n",
              "    }\n",
              "\n",
              "    .dataframe tbody tr th {\n",
              "        vertical-align: top;\n",
              "    }\n",
              "\n",
              "    .dataframe thead th {\n",
              "        text-align: right;\n",
              "    }\n",
              "</style>\n",
              "<table border=\"1\" class=\"dataframe\">\n",
              "  <thead>\n",
              "    <tr style=\"text-align: right;\">\n",
              "      <th></th>\n",
              "      <th>Borough</th>\n",
              "      <th>Postal Code</th>\n",
              "      <th>Month</th>\n",
              "      <th>Avg Value</th>\n",
              "    </tr>\n",
              "  </thead>\n",
              "  <tbody>\n",
              "    <tr>\n",
              "      <th>33</th>\n",
              "      <td>Unnamed: 34</td>\n",
              "      <td>NaN</td>\n",
              "      <td>1995-01-01</td>\n",
              "      <td>NaN</td>\n",
              "    </tr>\n",
              "    <tr>\n",
              "      <th>36</th>\n",
              "      <td>Unnamed: 37</td>\n",
              "      <td>NaN</td>\n",
              "      <td>1995-01-01</td>\n",
              "      <td>NaN</td>\n",
              "    </tr>\n",
              "    <tr>\n",
              "      <th>46</th>\n",
              "      <td>Unnamed: 47</td>\n",
              "      <td>NaN</td>\n",
              "      <td>1995-01-01</td>\n",
              "      <td>NaN</td>\n",
              "    </tr>\n",
              "    <tr>\n",
              "      <th>81</th>\n",
              "      <td>Unnamed: 34</td>\n",
              "      <td>NaN</td>\n",
              "      <td>1995-02-01</td>\n",
              "      <td>NaN</td>\n",
              "    </tr>\n",
              "    <tr>\n",
              "      <th>84</th>\n",
              "      <td>Unnamed: 37</td>\n",
              "      <td>NaN</td>\n",
              "      <td>1995-02-01</td>\n",
              "      <td>NaN</td>\n",
              "    </tr>\n",
              "    <tr>\n",
              "      <th>...</th>\n",
              "      <td>...</td>\n",
              "      <td>...</td>\n",
              "      <td>...</td>\n",
              "      <td>...</td>\n",
              "    </tr>\n",
              "    <tr>\n",
              "      <th>14580</th>\n",
              "      <td>Unnamed: 37</td>\n",
              "      <td>NaN</td>\n",
              "      <td>2020-04-01</td>\n",
              "      <td>NaN</td>\n",
              "    </tr>\n",
              "    <tr>\n",
              "      <th>14590</th>\n",
              "      <td>Unnamed: 47</td>\n",
              "      <td>NaN</td>\n",
              "      <td>2020-04-01</td>\n",
              "      <td>NaN</td>\n",
              "    </tr>\n",
              "    <tr>\n",
              "      <th>14625</th>\n",
              "      <td>Unnamed: 34</td>\n",
              "      <td>NaN</td>\n",
              "      <td>2020-05-01</td>\n",
              "      <td>NaN</td>\n",
              "    </tr>\n",
              "    <tr>\n",
              "      <th>14628</th>\n",
              "      <td>Unnamed: 37</td>\n",
              "      <td>NaN</td>\n",
              "      <td>2020-05-01</td>\n",
              "      <td>NaN</td>\n",
              "    </tr>\n",
              "    <tr>\n",
              "      <th>14638</th>\n",
              "      <td>Unnamed: 47</td>\n",
              "      <td>NaN</td>\n",
              "      <td>2020-05-01</td>\n",
              "      <td>NaN</td>\n",
              "    </tr>\n",
              "  </tbody>\n",
              "</table>\n",
              "<p>915 rows × 4 columns</p>\n",
              "</div>"
            ],
            "text/plain": [
              "           Borough Postal Code      Month  Avg Value\n",
              "33     Unnamed: 34         NaN 1995-01-01        NaN\n",
              "36     Unnamed: 37         NaN 1995-01-01        NaN\n",
              "46     Unnamed: 47         NaN 1995-01-01        NaN\n",
              "81     Unnamed: 34         NaN 1995-02-01        NaN\n",
              "84     Unnamed: 37         NaN 1995-02-01        NaN\n",
              "...            ...         ...        ...        ...\n",
              "14580  Unnamed: 37         NaN 2020-04-01        NaN\n",
              "14590  Unnamed: 47         NaN 2020-04-01        NaN\n",
              "14625  Unnamed: 34         NaN 2020-05-01        NaN\n",
              "14628  Unnamed: 37         NaN 2020-05-01        NaN\n",
              "14638  Unnamed: 47         NaN 2020-05-01        NaN\n",
              "\n",
              "[915 rows x 4 columns]"
            ]
          },
          "metadata": {
            "tags": []
          },
          "execution_count": 215
        }
      ]
    },
    {
      "cell_type": "code",
      "metadata": {
        "id": "I0GQ1bX9svtY",
        "outputId": "46bc3d45-ed2e-4d62-cc74-a1e1ce06239e",
        "colab": {
          "base_uri": "https://localhost:8080/"
        }
      },
      "source": [
        "dflon_final = dflon_cleaned.dropna()\n",
        "dflon_final.count()"
      ],
      "execution_count": 216,
      "outputs": [
        {
          "output_type": "execute_result",
          "data": {
            "text/plain": [
              "Borough        13725\n",
              "Postal Code    13725\n",
              "Month          13725\n",
              "Avg Value      13725\n",
              "dtype: int64"
            ]
          },
          "metadata": {
            "tags": []
          },
          "execution_count": 216
        }
      ]
    },
    {
      "cell_type": "markdown",
      "metadata": {
        "id": "Ftzw2ZGZ4-1s"
      },
      "source": [
        "Clean out rows/ values which is not classified as a 'Borough'. From [Wikipedia](https://https://en.wikipedia.org/wiki/London_boroughs), there are 32 Boroughs in London"
      ]
    },
    {
      "cell_type": "code",
      "metadata": {
        "id": "KP8XpQ6k2k0k",
        "outputId": "3df42873-ac00-4096-d373-94f79068735d",
        "colab": {
          "base_uri": "https://localhost:8080/"
        }
      },
      "source": [
        "dflon_final['Borough'].unique()"
      ],
      "execution_count": 217,
      "outputs": [
        {
          "output_type": "execute_result",
          "data": {
            "text/plain": [
              "array(['City of London', 'Barking & Dagenham', 'Barnet', 'Bexley',\n",
              "       'Brent', 'Bromley', 'Camden', 'Croydon', 'Ealing', 'Enfield',\n",
              "       'Greenwich', 'Hackney', 'Hammersmith & Fulham', 'Haringey',\n",
              "       'Harrow', 'Havering', 'Hillingdon', 'Hounslow', 'Islington',\n",
              "       'Kensington & Chelsea', 'Kingston upon Thames', 'Lambeth',\n",
              "       'Lewisham', 'Merton', 'Newham', 'Redbridge',\n",
              "       'Richmond upon Thames', 'Southwark', 'Sutton', 'Tower Hamlets',\n",
              "       'Waltham Forest', 'Wandsworth', 'Westminster', 'Inner London',\n",
              "       'Outer London', 'NORTH EAST', 'NORTH WEST', 'YORKS & THE HUMBER',\n",
              "       'EAST MIDLANDS', 'WEST MIDLANDS', 'EAST OF ENGLAND', 'LONDON',\n",
              "       'SOUTH EAST', 'SOUTH WEST', 'England'], dtype=object)"
            ]
          },
          "metadata": {
            "tags": []
          },
          "execution_count": 217
        }
      ]
    },
    {
      "cell_type": "code",
      "metadata": {
        "id": "LBqZNA__44jP",
        "outputId": "20cc40a0-b3c2-407a-ebaa-26fa92630da5",
        "colab": {
          "base_uri": "https://localhost:8080/"
        }
      },
      "source": [
        "# filter out rows which is not a Borough, check if value of unique Boroughs = 32 \n",
        "not_borough = ['City of London', 'Inner London', 'Outer London', 'NORTH EAST', 'NORTH WEST', 'YORKS & THE HUMBER',\n",
        "       'EAST MIDLANDS', 'WEST MIDLANDS', 'EAST OF ENGLAND', 'LONDON',\n",
        "       'SOUTH EAST', 'SOUTH WEST', 'England']\n",
        "\n",
        "dflon_final = dflon_final[~dflon_final['Borough'].isin(not_borough)]\n",
        "dflon_final['Borough'].nunique()"
      ],
      "execution_count": 218,
      "outputs": [
        {
          "output_type": "execute_result",
          "data": {
            "text/plain": [
              "32"
            ]
          },
          "metadata": {
            "tags": []
          },
          "execution_count": 218
        }
      ]
    },
    {
      "cell_type": "markdown",
      "metadata": {
        "id": "PGEx6mJsp6dG"
      },
      "source": [
        "**2.6. Visualizing the data**\n",
        "\n",
        "To visualize the data, why not subset on a particular London Borough? Maybe do a line plot of Month against Average Price?"
      ]
    },
    {
      "cell_type": "code",
      "metadata": {
        "id": "1WsiK502iFPl",
        "outputId": "085cec9c-ed1f-48fb-b69a-d00e5dfb7978",
        "colab": {
          "base_uri": "https://localhost:8080/",
          "height": 141
        }
      },
      "source": [
        "barnet = dflon_cleaned.loc[dflon_cleaned['Borough']=='Barnet'].reset_index(drop=True)\n",
        "barnet.head(3)"
      ],
      "execution_count": 219,
      "outputs": [
        {
          "output_type": "execute_result",
          "data": {
            "text/html": [
              "<div>\n",
              "<style scoped>\n",
              "    .dataframe tbody tr th:only-of-type {\n",
              "        vertical-align: middle;\n",
              "    }\n",
              "\n",
              "    .dataframe tbody tr th {\n",
              "        vertical-align: top;\n",
              "    }\n",
              "\n",
              "    .dataframe thead th {\n",
              "        text-align: right;\n",
              "    }\n",
              "</style>\n",
              "<table border=\"1\" class=\"dataframe\">\n",
              "  <thead>\n",
              "    <tr style=\"text-align: right;\">\n",
              "      <th></th>\n",
              "      <th>Borough</th>\n",
              "      <th>Postal Code</th>\n",
              "      <th>Month</th>\n",
              "      <th>Avg Value</th>\n",
              "    </tr>\n",
              "  </thead>\n",
              "  <tbody>\n",
              "    <tr>\n",
              "      <th>0</th>\n",
              "      <td>Barnet</td>\n",
              "      <td>E09000003</td>\n",
              "      <td>1995-01-01</td>\n",
              "      <td>93284.515625</td>\n",
              "    </tr>\n",
              "    <tr>\n",
              "      <th>1</th>\n",
              "      <td>Barnet</td>\n",
              "      <td>E09000003</td>\n",
              "      <td>1995-02-01</td>\n",
              "      <td>93190.171875</td>\n",
              "    </tr>\n",
              "    <tr>\n",
              "      <th>2</th>\n",
              "      <td>Barnet</td>\n",
              "      <td>E09000003</td>\n",
              "      <td>1995-03-01</td>\n",
              "      <td>92247.523438</td>\n",
              "    </tr>\n",
              "  </tbody>\n",
              "</table>\n",
              "</div>"
            ],
            "text/plain": [
              "  Borough Postal Code      Month     Avg Value\n",
              "0  Barnet   E09000003 1995-01-01  93284.515625\n",
              "1  Barnet   E09000003 1995-02-01  93190.171875\n",
              "2  Barnet   E09000003 1995-03-01  92247.523438"
            ]
          },
          "metadata": {
            "tags": []
          },
          "execution_count": 219
        }
      ]
    },
    {
      "cell_type": "code",
      "metadata": {
        "id": "nAg5pT9cqHAR",
        "outputId": "149a2974-366f-4ae4-9536-46e3baa75234",
        "colab": {
          "base_uri": "https://localhost:8080/",
          "height": 295
        }
      },
      "source": [
        "barnet.plot(kind='line',x='Month',y='Avg Value',color='blue')\n",
        "plt.ylabel('Average Value')\n",
        "plt.title('Montly Average Housing Prices of Barnet (London)')\n",
        "plt.show()"
      ],
      "execution_count": 220,
      "outputs": [
        {
          "output_type": "display_data",
          "data": {
            "image/png": "[encoded data removed]",
            "text/plain": [
              "<Figure size 432x288 with 1 Axes>"
            ]
          },
          "metadata": {
            "tags": [],
            "needs_background": "light"
          }
        }
      ]
    },
    {
      "cell_type": "markdown",
      "metadata": {
        "id": "aWTPqSJeqHnC"
      },
      "source": [
        "To limit the number of data points you have, you might want to extract the year from every month value your *Month* column. \n",
        "\n",
        "To this end, you *could* apply a ***lambda function***. Your logic could work as follows:\n",
        "1. look through the `Month` column\n",
        "2. extract the year from each individual value in that column \n",
        "3. store that corresponding year as separate column. \n",
        "\n",
        "Whether you go ahead with this is up to you. Just so long as you answer our initial brief: which boroughs of London have seen the greatest house price increase, on average, over the past two decades? "
      ]
    },
    {
      "cell_type": "code",
      "metadata": {
        "id": "e0DF92cyqnu8",
        "outputId": "f957f1e9-5fec-424b-c458-6176e7f38d49",
        "colab": {
          "base_uri": "https://localhost:8080/",
          "height": 202
        }
      },
      "source": [
        "dflon_final['Year'] = dflon_final['Month'].map(lambda x: x.year)\n",
        "dflon_final['Avg Value'] = dflon_final['Avg Value'].astype(float).round(2)\n",
        "dflon_final.head()"
      ],
      "execution_count": 221,
      "outputs": [
        {
          "output_type": "execute_result",
          "data": {
            "text/html": [
              "<div>\n",
              "<style scoped>\n",
              "    .dataframe tbody tr th:only-of-type {\n",
              "        vertical-align: middle;\n",
              "    }\n",
              "\n",
              "    .dataframe tbody tr th {\n",
              "        vertical-align: top;\n",
              "    }\n",
              "\n",
              "    .dataframe thead th {\n",
              "        text-align: right;\n",
              "    }\n",
              "</style>\n",
              "<table border=\"1\" class=\"dataframe\">\n",
              "  <thead>\n",
              "    <tr style=\"text-align: right;\">\n",
              "      <th></th>\n",
              "      <th>Borough</th>\n",
              "      <th>Postal Code</th>\n",
              "      <th>Month</th>\n",
              "      <th>Avg Value</th>\n",
              "      <th>Year</th>\n",
              "    </tr>\n",
              "  </thead>\n",
              "  <tbody>\n",
              "    <tr>\n",
              "      <th>1</th>\n",
              "      <td>Barking &amp; Dagenham</td>\n",
              "      <td>E09000002</td>\n",
              "      <td>1995-01-01</td>\n",
              "      <td>50460.23</td>\n",
              "      <td>1995</td>\n",
              "    </tr>\n",
              "    <tr>\n",
              "      <th>2</th>\n",
              "      <td>Barnet</td>\n",
              "      <td>E09000003</td>\n",
              "      <td>1995-01-01</td>\n",
              "      <td>93284.52</td>\n",
              "      <td>1995</td>\n",
              "    </tr>\n",
              "    <tr>\n",
              "      <th>3</th>\n",
              "      <td>Bexley</td>\n",
              "      <td>E09000004</td>\n",
              "      <td>1995-01-01</td>\n",
              "      <td>64958.09</td>\n",
              "      <td>1995</td>\n",
              "    </tr>\n",
              "    <tr>\n",
              "      <th>4</th>\n",
              "      <td>Brent</td>\n",
              "      <td>E09000005</td>\n",
              "      <td>1995-01-01</td>\n",
              "      <td>71306.57</td>\n",
              "      <td>1995</td>\n",
              "    </tr>\n",
              "    <tr>\n",
              "      <th>5</th>\n",
              "      <td>Bromley</td>\n",
              "      <td>E09000006</td>\n",
              "      <td>1995-01-01</td>\n",
              "      <td>81671.48</td>\n",
              "      <td>1995</td>\n",
              "    </tr>\n",
              "  </tbody>\n",
              "</table>\n",
              "</div>"
            ],
            "text/plain": [
              "              Borough Postal Code      Month  Avg Value  Year\n",
              "1  Barking & Dagenham   E09000002 1995-01-01   50460.23  1995\n",
              "2              Barnet   E09000003 1995-01-01   93284.52  1995\n",
              "3              Bexley   E09000004 1995-01-01   64958.09  1995\n",
              "4               Brent   E09000005 1995-01-01   71306.57  1995\n",
              "5             Bromley   E09000006 1995-01-01   81671.48  1995"
            ]
          },
          "metadata": {
            "tags": []
          },
          "execution_count": 221
        }
      ]
    },
    {
      "cell_type": "code",
      "metadata": {
        "id": "QIbrH9nHjEc0",
        "outputId": "edfa0f88-610b-4a19-cdef-0a79e053076f",
        "colab": {
          "base_uri": "https://localhost:8080/",
          "height": 202
        }
      },
      "source": [
        "price_avg_pa = dflon_final.groupby(['Borough','Year']).mean().round(2).reset_index()\n",
        "price_avg_pa.head()"
      ],
      "execution_count": 222,
      "outputs": [
        {
          "output_type": "execute_result",
          "data": {
            "text/html": [
              "<div>\n",
              "<style scoped>\n",
              "    .dataframe tbody tr th:only-of-type {\n",
              "        vertical-align: middle;\n",
              "    }\n",
              "\n",
              "    .dataframe tbody tr th {\n",
              "        vertical-align: top;\n",
              "    }\n",
              "\n",
              "    .dataframe thead th {\n",
              "        text-align: right;\n",
              "    }\n",
              "</style>\n",
              "<table border=\"1\" class=\"dataframe\">\n",
              "  <thead>\n",
              "    <tr style=\"text-align: right;\">\n",
              "      <th></th>\n",
              "      <th>Borough</th>\n",
              "      <th>Year</th>\n",
              "      <th>Avg Value</th>\n",
              "    </tr>\n",
              "  </thead>\n",
              "  <tbody>\n",
              "    <tr>\n",
              "      <th>0</th>\n",
              "      <td>Barking &amp; Dagenham</td>\n",
              "      <td>1995</td>\n",
              "      <td>51817.97</td>\n",
              "    </tr>\n",
              "    <tr>\n",
              "      <th>1</th>\n",
              "      <td>Barking &amp; Dagenham</td>\n",
              "      <td>1996</td>\n",
              "      <td>51718.19</td>\n",
              "    </tr>\n",
              "    <tr>\n",
              "      <th>2</th>\n",
              "      <td>Barking &amp; Dagenham</td>\n",
              "      <td>1997</td>\n",
              "      <td>55974.26</td>\n",
              "    </tr>\n",
              "    <tr>\n",
              "      <th>3</th>\n",
              "      <td>Barking &amp; Dagenham</td>\n",
              "      <td>1998</td>\n",
              "      <td>60285.82</td>\n",
              "    </tr>\n",
              "    <tr>\n",
              "      <th>4</th>\n",
              "      <td>Barking &amp; Dagenham</td>\n",
              "      <td>1999</td>\n",
              "      <td>65320.93</td>\n",
              "    </tr>\n",
              "  </tbody>\n",
              "</table>\n",
              "</div>"
            ],
            "text/plain": [
              "              Borough  Year  Avg Value\n",
              "0  Barking & Dagenham  1995   51817.97\n",
              "1  Barking & Dagenham  1996   51718.19\n",
              "2  Barking & Dagenham  1997   55974.26\n",
              "3  Barking & Dagenham  1998   60285.82\n",
              "4  Barking & Dagenham  1999   65320.93"
            ]
          },
          "metadata": {
            "tags": []
          },
          "execution_count": 222
        }
      ]
    },
    {
      "cell_type": "code",
      "metadata": {
        "id": "XGRF0CkFpyo6",
        "outputId": "24d1af2f-3b92-4f5e-c784-cf02805ba7c8",
        "colab": {
          "base_uri": "https://localhost:8080/",
          "height": 35
        }
      },
      "source": [
        "#find Borough with biggest increase on average price between 1995 and 2020\n",
        "\n",
        "def pct_change(p):\n",
        "  x = price_avg_pa[price_avg_pa['Borough']==p]\n",
        "  p1995 = float(x['Avg Value'][x['Year'] == 1995])\n",
        "  p2020 = float(x['Avg Value'][x['Year'] == 2020])\n",
        "  pct_change = (p2020-p1995)/p1995\n",
        "  return pct_change\n",
        "\n",
        "boroughs = list(price_avg_pa['Borough'].unique())\n",
        "dict = {}\n",
        "\n",
        "for borough in boroughs:\n",
        "  increase_pct = \"{:.2%}\".format(pct_change(borough))\n",
        "  dict.update({borough: increase_pct})\n",
        "\n",
        "max(dict, key=dict.get)"
      ],
      "execution_count": 223,
      "outputs": [
        {
          "output_type": "execute_result",
          "data": {
            "application/vnd.google.colaboratory.intrinsic+json": {
              "type": "string"
            },
            "text/plain": [
              "'Hackney'"
            ]
          },
          "metadata": {
            "tags": []
          },
          "execution_count": 223
        }
      ]
    },
    {
      "cell_type": "code",
      "metadata": {
        "id": "TT7NUX-vsGX3",
        "outputId": "3780c2fb-c39f-4959-bf24-4860bf6b1c6a",
        "colab": {
          "base_uri": "https://localhost:8080/",
          "height": 79
        }
      },
      "source": [
        "df95vs20 = pd.DataFrame(dict.items())\n",
        "df95vs20.columns = ['Borough', 'pct_change']\n",
        "df95vs20.loc[df95vs20['Borough']=='Hackney']"
      ],
      "execution_count": 224,
      "outputs": [
        {
          "output_type": "execute_result",
          "data": {
            "text/html": [
              "<div>\n",
              "<style scoped>\n",
              "    .dataframe tbody tr th:only-of-type {\n",
              "        vertical-align: middle;\n",
              "    }\n",
              "\n",
              "    .dataframe tbody tr th {\n",
              "        vertical-align: top;\n",
              "    }\n",
              "\n",
              "    .dataframe thead th {\n",
              "        text-align: right;\n",
              "    }\n",
              "</style>\n",
              "<table border=\"1\" class=\"dataframe\">\n",
              "  <thead>\n",
              "    <tr style=\"text-align: right;\">\n",
              "      <th></th>\n",
              "      <th>Borough</th>\n",
              "      <th>pct_change</th>\n",
              "    </tr>\n",
              "  </thead>\n",
              "  <tbody>\n",
              "    <tr>\n",
              "      <th>10</th>\n",
              "      <td>Hackney</td>\n",
              "      <td>763.31%</td>\n",
              "    </tr>\n",
              "  </tbody>\n",
              "</table>\n",
              "</div>"
            ],
            "text/plain": [
              "    Borough pct_change\n",
              "10  Hackney    763.31%"
            ]
          },
          "metadata": {
            "tags": []
          },
          "execution_count": 224
        }
      ]
    },
    {
      "cell_type": "markdown",
      "metadata": {
        "id": "2knuTxAEqoJ4"
      },
      "source": [
        "**3. Modeling**\n",
        "\n",
        "Consider creating a function that will calculate a ratio of house prices, comparing the price of a house in 2018 to the price in 1998.\n",
        "\n",
        "Consider calling this function create_price_ratio.\n",
        "\n",
        "You'd want this function to:\n",
        "1. Take a filter of dfg, specifically where this filter constrains the London_Borough, as an argument. For example, one admissible argument should be: dfg[dfg['London_Borough']=='Camden'].\n",
        "2. Get the Average Price for that Borough, for the years 1998 and 2018.\n",
        "4. Calculate the ratio of the Average Price for 1998 divided by the Average Price for 2018.\n",
        "5. Return that ratio.\n",
        "\n",
        "Once you've written this function, you ultimately want to use it to iterate through all the unique London_Boroughs and work out the ratio capturing the difference of house prices between 1998 and 2018.\n",
        "\n",
        "Bear in mind: you don't have to write a function like this if you don't want to. If you can solve the brief otherwise, then great! \n",
        "\n",
        "***Hint***: This section should test the skills you acquired in:\n",
        "- Python Data Science Toolbox - Part One, all modules"
      ]
    },
    {
      "cell_type": "code",
      "metadata": {
        "id": "OHmRumiAvZvq",
        "outputId": "13046259-be72-4529-b9b0-60525bfe005c",
        "colab": {
          "base_uri": "https://localhost:8080/"
        }
      },
      "source": [
        "def create_price_ratio(p):\n",
        "  x = price_avg_pa[price_avg_pa['Borough']==p]\n",
        "  p1998 = float(x['Avg Value'][x['Year'] == 1998])\n",
        "  p2018 = float(x['Avg Value'][x['Year'] == 2018])\n",
        "  ratio = (p1998/ p2018)\n",
        "  return ratio\n",
        "\n",
        "#test output\n",
        "create_price_ratio('Hackney')"
      ],
      "execution_count": 225,
      "outputs": [
        {
          "output_type": "execute_result",
          "data": {
            "text/plain": [
              "0.1613349445001764"
            ]
          },
          "metadata": {
            "tags": []
          },
          "execution_count": 225
        }
      ]
    },
    {
      "cell_type": "code",
      "metadata": {
        "id": "cax7BIhRtwBH",
        "outputId": "22bcf622-c76b-462d-c932-73ff395feb3c",
        "colab": {
          "base_uri": "https://localhost:8080/"
        }
      },
      "source": [
        "boroughs = list(price_avg_pa['Borough'].unique())\n",
        "b_price_change = {}\n",
        "\n",
        "for borough in boroughs:\n",
        "  increase_pct = \"{:.2%}\".format(create_price_ratio(borough))\n",
        "  b_price_change.update({borough: increase_pct})\n",
        "\n",
        "print(pd.DataFrame(b_price_change.items()))"
      ],
      "execution_count": 226,
      "outputs": [
        {
          "output_type": "stream",
          "text": [
            "                       0       1\n",
            "0     Barking & Dagenham  20.42%\n",
            "1                 Barnet  22.95%\n",
            "2                 Bexley  23.54%\n",
            "3                  Brent  20.43%\n",
            "4                Bromley  24.42%\n",
            "5                 Camden  20.26%\n",
            "6                Croydon  23.80%\n",
            "7                 Ealing  23.19%\n",
            "8                Enfield  23.46%\n",
            "9              Greenwich  21.00%\n",
            "10               Hackney  16.13%\n",
            "11  Hammersmith & Fulham  24.17%\n",
            "12              Haringey  19.48%\n",
            "13                Harrow  24.64%\n",
            "14              Havering  23.12%\n",
            "15            Hillingdon  23.81%\n",
            "16              Hounslow  25.15%\n",
            "17             Islington  20.64%\n",
            "18  Kensington & Chelsea  19.68%\n",
            "19  Kingston upon Thames  23.42%\n",
            "20               Lambeth  20.17%\n",
            "21              Lewisham  18.35%\n",
            "22                Merton  21.09%\n",
            "23                Newham  18.85%\n",
            "24             Redbridge  22.37%\n",
            "25  Richmond upon Thames  24.97%\n",
            "26             Southwark  18.13%\n",
            "27                Sutton  24.28%\n",
            "28         Tower Hamlets  21.61%\n",
            "29        Waltham Forest  17.14%\n",
            "30            Wandsworth  21.02%\n",
            "31           Westminster  18.68%\n"
          ],
          "name": "stdout"
        }
      ]
    },
    {
      "cell_type": "code",
      "metadata": {
        "id": "MnvUxrFd-5Z1",
        "outputId": "eb883edd-ffff-45de-9920-22b8b0d58143",
        "colab": {
          "base_uri": "https://localhost:8080/",
          "height": 35
        }
      },
      "source": [
        "#Borough with the highest increase in Average value comparing year 2018 to year 1998\n",
        "max(b_price_change, key=b_price_change.get)\n"
      ],
      "execution_count": 227,
      "outputs": [
        {
          "output_type": "execute_result",
          "data": {
            "application/vnd.google.colaboratory.intrinsic+json": {
              "type": "string"
            },
            "text/plain": [
              "'Hounslow'"
            ]
          },
          "metadata": {
            "tags": []
          },
          "execution_count": 227
        }
      ]
    },
    {
      "cell_type": "markdown",
      "metadata": {
        "id": "NzYUI7FxJpgv"
      },
      "source": [
        "### 4. Conclusion\n",
        "What can you conclude? Type out your conclusion below. \n",
        "\n",
        "Look back at your notebook. Think about how you might summarize what you have done, and prepare a quick presentation on it to your mentor at your next meeting. \n",
        "\n",
        "We hope you enjoyed this practical project. It should have consolidated your data hygiene and pandas skills by looking at a real-world problem involving just the kind of dataset you might encounter as a budding data scientist. Congratulations, and looking forward to seeing you at the next step in the course! "
      ]
    }
  ]
}